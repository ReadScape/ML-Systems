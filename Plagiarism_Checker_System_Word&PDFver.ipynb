{
  "nbformat": 4,
  "nbformat_minor": 0,
  "metadata": {
    "colab": {
      "provenance": []
    },
    "kernelspec": {
      "name": "python3",
      "display_name": "Python 3"
    },
    "language_info": {
      "name": "python"
    }
  },
  "cells": [
    {
      "cell_type": "code",
      "execution_count": 1,
      "metadata": {
        "id": "lWjJMunMSlEO",
        "colab": {
          "base_uri": "https://localhost:8080/"
        },
        "outputId": "8b9928e5-8bf7-465a-f04e-137de63b9969"
      },
      "outputs": [
        {
          "output_type": "stream",
          "name": "stdout",
          "text": [
            "Collecting PyPDF2\n",
            "  Downloading pypdf2-3.0.1-py3-none-any.whl (232 kB)\n",
            "\u001b[2K     \u001b[90m━━━━━━━━━━━━━━━━━━━━━━━━━━━━━━━━━━━━━━━━\u001b[0m \u001b[32m232.6/232.6 kB\u001b[0m \u001b[31m4.6 MB/s\u001b[0m eta \u001b[36m0:00:00\u001b[0m\n",
            "\u001b[?25hInstalling collected packages: PyPDF2\n",
            "Successfully installed PyPDF2-3.0.1\n",
            "Requirement already satisfied: nltk in /usr/local/lib/python3.10/dist-packages (3.8.1)\n",
            "Requirement already satisfied: click in /usr/local/lib/python3.10/dist-packages (from nltk) (8.1.7)\n",
            "Requirement already satisfied: joblib in /usr/local/lib/python3.10/dist-packages (from nltk) (1.3.2)\n",
            "Requirement already satisfied: regex>=2021.8.3 in /usr/local/lib/python3.10/dist-packages (from nltk) (2023.6.3)\n",
            "Requirement already satisfied: tqdm in /usr/local/lib/python3.10/dist-packages (from nltk) (4.66.1)\n"
          ]
        },
        {
          "output_type": "stream",
          "name": "stderr",
          "text": [
            "[nltk_data] Downloading package punkt to /root/nltk_data...\n",
            "[nltk_data]   Unzipping tokenizers/punkt.zip.\n"
          ]
        },
        {
          "output_type": "stream",
          "name": "stdout",
          "text": [
            "Collecting python-docx\n",
            "  Downloading python_docx-1.1.0-py3-none-any.whl (239 kB)\n",
            "\u001b[2K     \u001b[90m━━━━━━━━━━━━━━━━━━━━━━━━━━━━━━━━━━━━━━━━\u001b[0m \u001b[32m239.6/239.6 kB\u001b[0m \u001b[31m5.1 MB/s\u001b[0m eta \u001b[36m0:00:00\u001b[0m\n",
            "\u001b[?25hRequirement already satisfied: lxml>=3.1.0 in /usr/local/lib/python3.10/dist-packages (from python-docx) (4.9.3)\n",
            "Requirement already satisfied: typing-extensions in /usr/local/lib/python3.10/dist-packages (from python-docx) (4.5.0)\n",
            "Installing collected packages: python-docx\n",
            "Successfully installed python-docx-1.1.0\n"
          ]
        }
      ],
      "source": [
        "# Import all necessary library and function\n",
        "\n",
        "import os\n",
        "from sklearn.feature_extraction.text import TfidfVectorizer\n",
        "from sklearn.metrics.pairwise import cosine_similarity\n",
        "import numpy as np\n",
        "!pip install PyPDF2\n",
        "import PyPDF2\n",
        "!pip install nltk\n",
        "import nltk\n",
        "from nltk.tokenize import word_tokenize\n",
        "nltk.download('punkt')\n",
        "from nltk.tokenize import sent_tokenize\n",
        "import re\n",
        "!pip install python-docx\n",
        "import docx\n",
        "import tensorflow as tf\n",
        "from tensorflow.keras.preprocessing.text import Tokenizer"
      ]
    },
    {
      "cell_type": "code",
      "source": [
        "# Defining the Token of each text\n",
        "\n",
        "def tokenizing(flat_text,text):\n",
        "  tokenizer = Tokenizer()\n",
        "  tokenizer.fit_on_texts(flat_text)\n",
        "  word_index = tokenizer.word_index\n",
        "  tokenid = []\n",
        "  for i in text:\n",
        "    tokens = tokenizer.texts_to_sequences(i)\n",
        "    tokenid.append(tokens)\n",
        "  return tokenid"
      ],
      "metadata": {
        "id": "vR2kRHe6QXzM"
      },
      "execution_count": 2,
      "outputs": []
    },
    {
      "cell_type": "code",
      "source": [
        "# Defining the TfidfVectorizer of each text\n",
        "\n",
        "def vecTfid(flat_text,text):\n",
        "  vec = TfidfVectorizer()\n",
        "  vec.fit(flat_text)\n",
        "  vecarr = []\n",
        "  for i in text:\n",
        "    transform = vec.transform(i).toarray()\n",
        "    vecarr.append(transform)\n",
        "  return vecarr"
      ],
      "metadata": {
        "id": "U1pQhvm2QUgC"
      },
      "execution_count": 3,
      "outputs": []
    },
    {
      "cell_type": "code",
      "source": [
        "# Using the flag system to count copy-pasted and high similarity line\n",
        "\n",
        "def count_flag(token1, token2, tf1, tf2):\n",
        "  # Defining all necessary flag variables\n",
        "  plag_tf_token = 0\n",
        "  di = len(tf1)\n",
        "  high_sim = []\n",
        "  copy_paste = []\n",
        "  struc_token = []\n",
        "  struc_tf = []\n",
        "  token_cos = []\n",
        "\n",
        "  # Getting the similarity on Tokenized text and Vectorized text\n",
        "  tf_cos = cosine_similarity(tf1,tf2)\n",
        "  for i in range(len(token1)):\n",
        "    cos_line= []\n",
        "    for j in range(len(token2)):\n",
        "      leng = len(list(set(token1[i]+token2[j])))\n",
        "      cos = len(set(token1[i])&set(token2[j]))/leng\n",
        "      cos_line.append(cos)\n",
        "    token_cos.append(cos_line)\n",
        "\n",
        "  # Both Tokenized and Vectorized has their own strength and uses\n",
        "  # Similarity threshold (0.999, 0.7, and 0.3) may be changed\n",
        "  # Flag system works by:\n",
        "  # 1. Flag each line that are copy-pasted or high similarity with value 1, final result is the total line\n",
        "  # 2. Line with less than 0.9999 similarity uses several threshold (0.7 and 0.3)\n",
        "       # Both threshold gave different flag value (for tf) (plag_tf_token)\n",
        "       # Final result of plag_tf_token is the summation of flag tf and token if total > 1\n",
        "\n",
        "  for i in range(di):\n",
        "    tf = 0\n",
        "    token = 0\n",
        "    if any(vals >= 0.9999 for vals in tf_cos[i]):\n",
        "      high_sim.append([i,[index for index, vals in enumerate(tf_cos[i]) if vals >= 0.9999]])\n",
        "    elif any(0.7 < vals < 0.9999 for vals in tf_cos[i]):\n",
        "      struc_tf.append([i,[index for index, vals in enumerate(tf_cos[i]) if 0.35 < vals < 0.9999]])\n",
        "      tf = 2\n",
        "    elif any(0.35 < vals < 0.9999 for vals in tf_cos[i]):\n",
        "      struc_tf.append([i,[index for index, vals in enumerate(tf_cos[i]) if 0.35 < vals < 0.9999]])\n",
        "      tf = 1\n",
        "    else:\n",
        "      tf = 0\n",
        "\n",
        "    if any(vals >= 0.9999 for vals in token_cos[i]):\n",
        "      copy_paste.append([i,[index for index, vals in enumerate(token_cos[i]) if vals >= 0.9999]])\n",
        "    elif any(0.7 < vals < 0.9999 for vals in token_cos[i]):\n",
        "      struc_token.append([i,[index for index, vals in enumerate(token_cos[i]) if 0.7 < vals < 0.9999]])\n",
        "      token = 1\n",
        "    else:\n",
        "      token = 0\n",
        "\n",
        "    if token + tf > 1:\n",
        "      plag_tf_token += 1\n",
        "\n",
        "  return plag_tf_token, di, high_sim, copy_paste, struc_token, struc_tf"
      ],
      "metadata": {
        "id": "7MkLbZBtQYc9"
      },
      "execution_count": 4,
      "outputs": []
    },
    {
      "cell_type": "code",
      "source": [
        "# Defining the function to remove unnecesary symbols and empty arrays\n",
        "\n",
        "def remove(text):\n",
        "  pattern = r'[“”‘’:;\"_\\',.()\\–\\[\\]]'\n",
        "  sub_text = re.sub(pattern,'', text)\n",
        "  pattern = r'[\\-\\/]'\n",
        "  sub_text = re.sub(pattern,' ', sub_text)\n",
        "  token_text = word_tokenize(sub_text)\n",
        "  words = [word for word in token_text if word]\n",
        "  return ' '.join(words)"
      ],
      "metadata": {
        "id": "8bwj38lMXxH2"
      },
      "execution_count": 5,
      "outputs": []
    },
    {
      "cell_type": "markdown",
      "source": [
        "## **Word Path**"
      ],
      "metadata": {
        "id": "TgzNwyE6ajgf"
      }
    },
    {
      "cell_type": "code",
      "source": [
        "# Obtaining all text files that endswith .docx\n",
        "\n",
        "word_path = '/content/try-1'\n",
        "\n",
        "def word_file(word_path):\n",
        "  word_file_list = np.array([file for file in os.listdir(word_path) if file.lower().endswith('.docx')],dtype=object)\n",
        "  return word_file_list"
      ],
      "metadata": {
        "id": "swQ8ZAy-DGqU"
      },
      "execution_count": 6,
      "outputs": []
    },
    {
      "cell_type": "markdown",
      "source": [
        "## **Extract Word**"
      ],
      "metadata": {
        "id": "8XriqvrIaSO1"
      }
    },
    {
      "cell_type": "code",
      "source": [
        "# Extracting the text from word files\n",
        "\n",
        "def get_word_data(word_path,word_file):\n",
        "  word_read = docx.Document(word_path+'/'+word_file)\n",
        "\n",
        "  # Defining the necessary asrrays and variables\n",
        "  par_arr = []\n",
        "  split_arr = []\n",
        "  lindex = 0\n",
        "  refindex = -1\n",
        "\n",
        "  #Reading each paragraphs inside the text\n",
        "  for par in word_read.paragraphs:\n",
        "    sentences = sent_tokenize(par.text.lower())\n",
        "    for sent in sentences:\n",
        "      lines = sent.split('\\n')\n",
        "      lines = [remove(line) for line in lines]\n",
        "      lines = [line for line in lines if line]\n",
        "      par_arr.extend(lines)\n",
        "\n",
        "  # To define the first index and last index, may be removed depending on the format of text\n",
        "  if 'latar belakang' in par_arr:\n",
        "    lindex = par_arr.index('latar belakang')\n",
        "    lindex+=1\n",
        "  if 'daftar pustaka' in par_arr:\n",
        "    refindex = par_arr.index('daftar pustaka')\n",
        "  elif 'reference' in par_arr:\n",
        "    refindex = par_arr.index('reference')\n",
        "  if lindex > 0 or refindex > 0:\n",
        "    return par_arr[lindex:refindex]\n",
        "  else:\n",
        "    return par_arr"
      ],
      "metadata": {
        "id": "O1yUgKAqIRiP"
      },
      "execution_count": 7,
      "outputs": []
    },
    {
      "cell_type": "markdown",
      "source": [
        "## **Get Word Text List**"
      ],
      "metadata": {
        "id": "pb1OqdYlashT"
      }
    },
    {
      "cell_type": "code",
      "source": [
        "# Creating an array containing the file name and text of each files\n",
        "\n",
        "def list_word_text(word_path,word_file):\n",
        "  text_list = np.empty((0, 2), dtype=str)\n",
        "  for files in word_file:\n",
        "    text = get_word_data(word_path,files)\n",
        "    text_list = np.append(text_list,[[files,text]],axis=0)\n",
        "  return text_list"
      ],
      "metadata": {
        "id": "KloV6ZkiK8bN"
      },
      "execution_count": 8,
      "outputs": []
    },
    {
      "cell_type": "markdown",
      "source": [
        "# **PDF**"
      ],
      "metadata": {
        "id": "huvob2oseq1Z"
      }
    },
    {
      "cell_type": "markdown",
      "source": [
        "## **PDF Path**"
      ],
      "metadata": {
        "id": "vUJxoiiFXwib"
      }
    },
    {
      "cell_type": "code",
      "source": [
        "# Obtaining all text files that endswith .pdf\n",
        "\n",
        "folder_pdf = '/content/tryp'\n",
        "\n",
        "def pdf_file(folder_pdf):\n",
        "  pdf_file_list = np.array([file for file in os.listdir(folder_pdf) if file.lower().endswith('.pdf')],dtype=object)\n",
        "  return pdf_file_list"
      ],
      "metadata": {
        "id": "J4W234TfUoba"
      },
      "execution_count": 9,
      "outputs": []
    },
    {
      "cell_type": "markdown",
      "source": [
        "## **Extract PDF**\n",
        "---\n"
      ],
      "metadata": {
        "id": "i8BklE2Qvqc_"
      }
    },
    {
      "cell_type": "code",
      "source": [
        "# Extracting the text from pdf files\n",
        "\n",
        "def get_pdf(path,file_name):\n",
        "  # Defining the necessary array and variables\n",
        "  lindex = 0\n",
        "  refindex = -1\n",
        "  line_arr = []\n",
        "\n",
        "  # Reading text in pdf file by page\n",
        "  with open(path+'/'+file_name,'rb') as temp_pdf:\n",
        "    read_pdf = PyPDF2.PdfReader(temp_pdf)\n",
        "    for num_page in range(len(read_pdf.pages)):\n",
        "      page = read_pdf.pages[num_page].extract_text().lower()\n",
        "      sentence = sent_tokenize(page)\n",
        "      for sent in sentence:\n",
        "        lines = sent.split('\\n')\n",
        "        lines = [remove(line) for line in lines]\n",
        "        lines = [line for line in lines if line]\n",
        "        line_arr.extend(lines)\n",
        "\n",
        "  # To define the first index and last index, may be removed depending on the format of text\n",
        "  if 'latar belakang' in line_arr:\n",
        "    lindex = line_arr.index('latar belakang')\n",
        "    lindex+=1\n",
        "  if 'daftar pustaka' in line_arr:\n",
        "    refindex = line_arr.index('daftar pustaka')\n",
        "  elif 'reference' in line_arr:\n",
        "    refindex = line_arr.index('reference')\n",
        "  if lindex > 0 or refindex > 0:\n",
        "    return line_arr[lindex:refindex]\n",
        "  else:\n",
        "    return line_arr"
      ],
      "metadata": {
        "id": "VkA-9QWCg7Fx"
      },
      "execution_count": 10,
      "outputs": []
    },
    {
      "cell_type": "markdown",
      "source": [
        "## **Get PDF Text List**"
      ],
      "metadata": {
        "id": "08BZdxYrYM-3"
      }
    },
    {
      "cell_type": "code",
      "source": [
        "# Creating an array containing the file name and text of each files\n",
        "\n",
        "def list_all_text(pdf_folder_path,pdf_file_list):\n",
        "  text_list = np.empty((0, 2), dtype=str)\n",
        "  for files in pdf_file_list:\n",
        "    text = get_pdf(pdf_folder_path,files)\n",
        "    text_list = np.append(text_list,[[files,text]],axis=0)\n",
        "  return text_list"
      ],
      "metadata": {
        "id": "AlNaliB5m49I"
      },
      "execution_count": 11,
      "outputs": []
    },
    {
      "cell_type": "markdown",
      "source": [
        "# **Main Code**"
      ],
      "metadata": {
        "id": "yNvGaj4TUNaC"
      }
    },
    {
      "cell_type": "code",
      "source": [
        "def show_line(struc_token,struc_tf,text_list,high_sim,copy_paste,j,l):\n",
        "  # Show all line that has over 99% similarity\n",
        "  if len(high_sim) > 0:\n",
        "    print(\"\\nLine with 99% similarity:\")\n",
        "    for i in range(len(high_sim)):\n",
        "      for k in high_sim[i][1]:\n",
        "        print(f\"\\t {i+1}. {text_list[l][high_sim[i][0]]} vs {text_list[j][k]}\")\n",
        "\n",
        "  # Show all line that are copy-pasted\n",
        "  if len(copy_paste) > 0:\n",
        "    print(\"\\nCopy-pasted line:\")\n",
        "    for i in range(len(copy_paste)):\n",
        "      for k in copy_paste[i][1]:\n",
        "        print(f\"\\t {i+1}. {text_list[l][copy_paste[i][0]]} vs {text_list[j][k]}\")\n",
        "\n",
        "  # Show all line that has high similar structure\n",
        "  if len(struc_token) > 0:\n",
        "    print(\"\\nLine with similar structure:\")\n",
        "    for i in range(len(struc_token)):\n",
        "      for k in struc_token[i][1]:\n",
        "        print(f\"\\t {i+1}. {text_list[l][struc_token[i][0]]} vs {text_list[j][k]}\")\n",
        "\n",
        "  # Show all line that has similarity more than 35%\n",
        "  if len(struc_tf) > 0:\n",
        "    print(\"\\nLine with similarity higher than 35%:\")\n",
        "    for i in range(len(struc_tf)):\n",
        "      for k in struc_tf[i][1]:\n",
        "        print(f\"\\t {i+1}. {text_list[l][struc_tf[i][0]]} vs {text_list[j][k]}\")"
      ],
      "metadata": {
        "id": "yIoyfMXmJAEE"
      },
      "execution_count": 18,
      "outputs": []
    },
    {
      "cell_type": "code",
      "source": [
        "# Main code of the system, calling all the neccesary functions\n",
        "\n",
        "def main_code(text_list):\n",
        "  # Separating the filenames and texts from text_list array\n",
        "  name = [text[0] for text in text_list]\n",
        "  text = [text[1] for text in text_list]\n",
        "\n",
        "  # Flattened the text to smooth out the tokenize and vectorize\n",
        "  flat_text = [line for text in text for line in text]\n",
        "\n",
        "  # Calling the tokenizer and vectorizer function\n",
        "  tfid = vecTfid(flat_text,text)\n",
        "  token = tokenizing(flat_text,text)\n",
        "\n",
        "  # Iterating each text to examine the similarity between text\n",
        "  for i in range(len(tfid)):\n",
        "    for j in range(i+1,len(tfid)):\n",
        "      plag_tf_token, di,  high_sim, copy_paste, struc_token, struc_tf = count_flag(token[i], token[j], tfid[i], tfid[j])\n",
        "      flag_tf = len(high_sim)\n",
        "      flag_token = len(copy_paste)\n",
        "      plag_score = (plag_tf_token+(flag_tf+flag_token)/2)/di\n",
        "      tf_token = len(set([index for index,val in enumerate(struc_token)] + [index for index,val in enumerate(struc_tf)]))\n",
        "\n",
        "      # Plagiarized score are categorized into 3 section\n",
        "      # Those with plagiarism score more than 30% and those with less than 30%\n",
        "      # For plagiarism score with more than 30%, a warning will be displayed, along with the number of copy-pasted and high similarity line\n",
        "      # For plagiarism score with less than 30%, however, has copy-pasted and high similarity line, a warning will be displayed\n",
        "      # For plagiarism score that has less than 30% and no copy-pasted and high similarity line, no warning will be displayed\n",
        "\n",
        "      print(f\"file {name[i]} vs file {name[j]}\")\n",
        "      if plag_score >= 0.3:\n",
        "        print(f\"\\t!Warning! There are overall {plag_score*100:.2f}% similarity score in both file! Bigger than 30%!\")\n",
        "        if flag_tf > 0:\n",
        "          print(f\"\\t\\tAmong which, there are {flag_tf} line with 99% similarity! About {flag_tf/di*100:.2f}% of the text!\")\n",
        "        if flag_token > 0:\n",
        "          print(f\"\\t\\tAmong which, there are {flag_token} line with 99% similar structure! About {flag_token/di*100:.2f}% of the text!\")\n",
        "        if plag_tf_token > 0:\n",
        "          print(f\"\\t\\tAmong which, there are {tf_token} line with either 70% more similarity or similar structure! About {tf_token/di*100:.2f}% of the text!\")\n",
        "        show_line(struc_token,struc_tf,text,high_sim,copy_paste,j,i)\n",
        "      elif plag_score < 0.3 and (flag_tf > 0 or flag_token > 0):\n",
        "        print(f\"\\t!Warning! Overall there are {plag_score*100:.2f}% similarity score in both file, less than 30%, however:\")\n",
        "        if flag_tf > 0:\n",
        "          print(f\"\\t\\tThere are {flag_tf} line with 99% similarity in both file! About {flag_tf/di*100:.2f}% of the text!\")\n",
        "        if flag_token > 0:\n",
        "          print(f\"\\t\\tThere are {flag_token} line with 99% similar structure in both file! About {flag_token/di*100:.2f}% of the text!\")\n",
        "        if plag_tf_token > 0:\n",
        "          print(f\"\\t\\tAmong which, there are {tf_token} line with either 70% more similarity or similar structure! About {tf_token/di*100:.2f}% of the text!\")\n",
        "        show_line(struc_token,struc_tf,text,high_sim,copy_paste,j,i)\n",
        "      else:\n",
        "          print(f\"\\tSimilarity score is {plag_score*100:.2f}%! Congratulations, you may upload your work :)!\")\n",
        "\n",
        "      print(\"\\n---------------------------------------------------------------------------------------------------------------------------\\n\")"
      ],
      "metadata": {
        "id": "4NhtsOYHAFqg"
      },
      "execution_count": 16,
      "outputs": []
    },
    {
      "cell_type": "markdown",
      "source": [
        "# **Word Plagiarism Checker Function**"
      ],
      "metadata": {
        "id": "opQwdwI0a5I_"
      }
    },
    {
      "cell_type": "code",
      "source": [
        "# Defining the Plagiarism Checker function for word files\n",
        "\n",
        "def Plagiarism_checker_word(word_path):\n",
        "  text_list = list_word_text(word_path,word_file(word_path))\n",
        "  main_code(text_list)"
      ],
      "metadata": {
        "id": "oT7VZxqP0lQl"
      },
      "execution_count": 14,
      "outputs": []
    },
    {
      "cell_type": "markdown",
      "source": [
        "## **Word file Example**"
      ],
      "metadata": {
        "id": "okifPZBxTrM5"
      }
    },
    {
      "cell_type": "code",
      "source": [
        "Plagiarism_checker_word(word_path)"
      ],
      "metadata": {
        "colab": {
          "base_uri": "https://localhost:8080/"
        },
        "id": "Fe5yyIhzhOnW",
        "outputId": "dbfdfa48-7cbe-411e-cc8d-2a1cedd29b8a"
      },
      "execution_count": 19,
      "outputs": [
        {
          "output_type": "stream",
          "name": "stderr",
          "text": [
            "<__array_function__ internals>:180: VisibleDeprecationWarning: Creating an ndarray from ragged nested sequences (which is a list-or-tuple of lists-or-tuples-or ndarrays with different lengths or shapes) is deprecated. If you meant to do this, you must specify 'dtype=object' when creating the ndarray.\n"
          ]
        },
        {
          "output_type": "stream",
          "name": "stdout",
          "text": [
            "file kei.docx vs file Try3.docx\n",
            "\t!Warning! There are overall 32.18% similarity score in both file! Bigger than 30%!\n",
            "\t\tAmong which, there are 60 line with 99% similarity! About 29.70% of the text!\n",
            "\t\tAmong which, there are 60 line with 99% similar structure! About 29.70% of the text!\n",
            "\t\tAmong which, there are 34 line with either 70% more similarity or similar structure! About 16.83% of the text!\n",
            "\n",
            "Line with 99% similarity:\n",
            "\t 1. seperti kita ketahui manusia memiliki salah satu bagian tubuh yaitu mata yang memiliki fungsi sebagai indra penglihatan vs seperti kita ketahui manusia memiliki salah satu bagian tubuh yaitu mata yang memiliki fungsi sebagai indra penglihatan\n",
            "\t 2. meskipun demikian mata manusia memiliki batasan dalam melihat objek berukuran normal hingga besar vs meskipun demikian mata manusia memiliki batasan dalam melihat objek berukuran normal hingga besar\n",
            "\t 3. oleh sebab itu ditemukannya titik terang dengan adanya penemuan mikroskop oleh antoine van leeuwenhoek yang merupakan seorang belanda pada sekitar tahun 1590 an vs oleh sebab itu ditemukannya titik terang dengan adanya penemuan mikroskop oleh antoine van leeuwenhoek yang merupakan seorang belanda pada sekitar tahun 1590 an\n",
            "\t 4. antonie menggunakan mikroskop dalam mengamati air tawar untuk mengidentifikasi suatu mikroorganisme bersel tunggal yang disebut hewan vs antonie menggunakan mikroskop dalam mengamati air tawar untuk mengidentifikasi suatu mikroorganisme bersel tunggal yang disebut hewan\n",
            "\t 5. dari hal demikian dapat disimpulkan bahwa mikroskop adalah solusi yang ditemukan atas ketidakmampuan indera penglihatan manusia dalam mengamati benda dengan ukuran yang sangat kecil benda yang terlihat tak kasat mata apabila dilihat oleh mata telanjang vs dari hal demikian dapat disimpulkan bahwa mikroskop adalah solusi yang ditemukan atas ketidakmampuan indera penglihatan manusia dalam mengamati benda dengan ukuran yang sangat kecil benda yang terlihat tak kasat mata apabila dilihat oleh mata telanjang\n",
            "\t 6. mikroskop berasal dari bahasa latin yaitu microscopium yang diambil dari bahasa yunani yang terdiri dari mikros yang berarti kecil dan skopein yang mengandung arti melihat vs mikroskop berasal dari bahasa latin yaitu microscopium yang diambil dari bahasa yunani yang terdiri dari mikros yang berarti kecil dan skopein yang mengandung arti melihat\n",
            "\t 7. secara umum mikroskop merupakan instrumen yang biasa digunakan untuk memvisualisasikan objek yang sangat kecil objek mikroskopik sehingga memberikan gambaran jelas detail yang dapat dilihat dengan mata telanjang contohnya seperti melihat sel tubuh manusia dan mikroorganisme lainnya vs secara umum mikroskop merupakan instrumen yang biasa digunakan untuk memvisualisasikan objek yang sangat kecil objek mikroskopik sehingga memberikan gambaran jelas detail yang dapat dilihat dengan mata telanjang contohnya seperti melihat sel tubuh manusia dan mikroorganisme lainnya\n",
            "\t 8. bahkan beberapa mikroskop dapat digunakan untuk melihat bagian terkecil dari sebuah objek mikroskopik seperti contoh mikroskop dapat menampakan gambar organel organel sel dengan jelas seperti nukleus retikulum endoplasma mitokondria dan organel lainnya secara teliti vs bahkan beberapa mikroskop dapat digunakan untuk melihat bagian terkecil dari sebuah objek mikroskopik seperti contoh mikroskop dapat menampakan gambar organel organel sel dengan jelas seperti nukleus retikulum endoplasma mitokondria dan organel lainnya secara teliti\n",
            "\t 9. tujuan praktikum ini ialah untuk mengidentifikasi struktur atau bagian mikroskop cahaya membagankan prosedur pengoperasian mikroskop cahaya serta untuk mengetahui gambaran detail dari sebuah sel yang hidup di dalam tubuh manusia vs tujuan praktikum ini ialah untuk mengidentifikasi struktur atau bagian mikroskop cahaya membagankan prosedur pengoperasian mikroskop cahaya serta untuk mengetahui gambaran detail dari sebuah sel yang hidup di dalam tubuh manusia\n",
            "\t 10. konsep dasar vs konsep dasar\n",
            "\t 11. seiring waktu berjalan mikroskop telah mendapatkan banyak kemajuan inovasi teknologi yang membuat kualitas gambar yang dihasilkan terus meningkat vs seiring waktu berjalan mikroskop telah mendapatkan banyak kemajuan inovasi teknologi yang membuat kualitas gambar yang dihasilkan terus meningkat\n",
            "\t 12. hal ini dapat dilihat dengan inovasi kemajuaan mikroskop dengan perbesaran 300 ke mikroskop elektron yang saat ini berkembang mampu melakukan perbesaran hingga lebih dari 250000 terdapat berbagai macam jenis mikroskop yang digolongkan berdasarkan jenis lensa penampakan objek serta sumber cahaya vs hal ini dapat dilihat dengan inovasi kemajuaan mikroskop dengan perbesaran 300 ke mikroskop elektron yang saat ini berkembang mampu melakukan perbesaran hingga lebih dari 250000 terdapat berbagai macam jenis mikroskop yang digolongkan berdasarkan jenis lensa penampakan objek serta sumber cahaya\n",
            "\t 13. berdasarkan jenis lensa mikroskop dibagi menjadi dua yaitu mikroskop monokuler dan binokuler sedangkan berdasarkan penampakan objeknya mikroskop dibagi menjadi mikroskop 2 dimensi dan mikroskop 3 dimensi vs berdasarkan jenis lensa mikroskop dibagi menjadi dua yaitu mikroskop monokuler dan binokuler sedangkan berdasarkan penampakan objeknya mikroskop dibagi menjadi mikroskop 2 dimensi dan mikroskop 3 dimensi\n",
            "\t 14. serta berdasakan sumber cahaya mikroskop ada dua macam yaitu mikroskop elektron dan mikroskop cahaya vs serta berdasakan sumber cahaya mikroskop ada dua macam yaitu mikroskop elektron dan mikroskop cahaya\n",
            "\t 15. mikroskop cahaya terdiri dari beberapa macam antara lain mikroskop medan gelap mikroskop medan terang mikroskop fase kontras dan mikroskop fluoresen vs mikroskop cahaya terdiri dari beberapa macam antara lain mikroskop medan gelap mikroskop medan terang mikroskop fase kontras dan mikroskop fluoresen\n",
            "\t 16. pada mikroskop medan gelap kondensor mengarahkan cahaya secara miring sehingga cahaya dihamburkan dari spesimen yang kemudian tampak terang dengan latar belakang gelap vs pada mikroskop medan gelap kondensor mengarahkan cahaya secara miring sehingga cahaya dihamburkan dari spesimen yang kemudian tampak terang dengan latar belakang gelap\n",
            "\t 17. sedangkan pada mikroskop medan terang spesimen diterangi oleh cahaya yang difokuskan oleh kondensor yang memberikan hasil spesimen tampak gelap dengan latar belakang yang terang vs sedangkan pada mikroskop medan terang spesimen diterangi oleh cahaya yang difokuskan oleh kondensor yang memberikan hasil spesimen tampak gelap dengan latar belakang yang terang\n",
            "\t 18. terdapat juga mikroskop fase kontras yang dimana optiknya mencakup tujuan khusus dan kondensor yang membuat komponen seluler terlihat sedikit berbeda dalam indeks biasnya sebab cahaya ditransimisikan melalui spesimen dengan indeks bias yang berbeda dari medium sekitarnya vs terdapat juga mikroskop fase kontras yang dimana optiknya mencakup tujuan khusus dan kondensor yang membuat komponen seluler terlihat sedikit berbeda dalam indeks biasnya sebab cahaya ditransimisikan melalui spesimen dengan indeks bias yang berbeda dari medium sekitarnya\n",
            "\t 19. berbeda dengan halnya mikroskop fluoresen mikroskop ini biasa digunakan untuk melihat spesimen secara kimiawi vs berbeda dengan halnya mikroskop fluoresen mikroskop ini biasa digunakan untuk melihat spesimen secara kimiawi\n",
            "\t 20. melalui lensa mikroskop bayangan suatu benda dapat diperbesar dan tampak lebih jelas seperti contohnya pada kasus ini ialah pengamatan akan empat jenis sel yang terdapat pada tubuh manusia dengan perbesaran 40 kali dan 100 kali vs melalui lensa mikroskop bayangan suatu benda dapat diperbesar dan tampak lebih jelas seperti contohnya pada kasus ini ialah pengamatan akan empat jenis sel yang terdapat pada tubuh manusia dengan perbesaran 40 kali dan 100 kali\n",
            "\t 21. empat sample tersebut terdiri dari skeletal muscle otot lurik spindal cord sumsum tulang belakang neuryctes sel saraf dan simple columnar epithelium epitel silindris selapis vs empat sample tersebut terdiri dari skeletal muscle otot lurik spindal cord sumsum tulang belakang neuryctes sel saraf dan simple columnar epithelium epitel silindris selapis\n",
            "\t 22. skeletal muscle ialah otot yang melekat pada rangka yang bekerja secara sadar sedangkan spinal cord ialah jaringan lunak yang dikelilingi oleh tulang belakang vs skeletal muscle ialah otot yang melekat pada rangka yang bekerja secara sadar sedangkan spinal cord ialah jaringan lunak yang dikelilingi oleh tulang belakang\n",
            "\t 23. simple columnar epithelium biasa dikenal dengan vs simple columnar epithelium biasa dikenal dengan\n",
            "\t 24. bayangan suatu benda diperbesar minimal melalui satu lensa mikrsokop vs bayangan suatu benda diperbesar minimal melalui satu lensa mikrsokop\n",
            "\t 25. mikroskop cahaya mempengaruhi cara kerja cahaya masuk ke mata mengguhnakan lensa cembung dimana kedua sisi lensa melengkung ke luar vs mikroskop cahaya mempengaruhi cara kerja cahaya masuk ke mata mengguhnakan lensa cembung dimana kedua sisi lensa melengkung ke luar\n",
            "\t 26. lensa mikroskop bekerja dengan membelokkan cahaya ke arah mata sehingga membuat objek terlihat lebih besar dari yang sebenarnya vs lensa mikroskop bekerja dengan membelokkan cahaya ke arah mata sehingga membuat objek terlihat lebih besar dari yang sebenarnya\n",
            "\t 27. namun meskipun banyak jenis dan variasinya pada dasarnya mikroskop terdiri dari dua lensa yaitu lensa okuler dan lensa objektif vs namun meskipun banyak jenis dan variasinya pada dasarnya mikroskop terdiri dari dua lensa yaitu lensa okuler dan lensa objektif\n",
            "\t 28. begitupula dengan bagian mikroskop hampir semua mikroskop tersusun atas struktur yang hampir sama antara lain vs begitupula dengan bagian mikroskop hampir semua mikroskop tersusun atas struktur yang hampir sama antara lain\n",
            "\t 29. gambar 1 mikroskop dan bagiannya vs gambar 1 mikroskop dan bagiannya\n",
            "\t 30. makrometer pemutar kasar yang digunakan untuk menaik turunkan tabung mikroskop secara cepat saat ingin mengukur jarak antara lensa objektif dengan preparat vs makrometer pemutar kasar yang digunakan untuk menaik turunkan tabung mikroskop secara cepat saat ingin mengukur jarak antara lensa objektif dengan preparat\n",
            "\t 31. mikrometer pemutar halus yang memiliki fungsi menaik turunkan tabung mikroskop secara lambat yang biasanya ditujukan untuk mengatur fokus agar menghasilkan gambar yang lebih jelas vs mikrometer pemutar halus yang memiliki fungsi menaik turunkan tabung mikroskop secara lambat yang biasanya ditujukan untuk mengatur fokus agar menghasilkan gambar yang lebih jelas\n",
            "\t 32. tabung mikroskop penghubung antara lensa objektif dan lensa okuler yang berguna untuk mengatur fokus vs tabung mikroskop penghubung antara lensa objektif dan lensa okuler yang berguna untuk mengatur fokus\n",
            "\t 33. lensa okuler lensa mikroskop yang berada di bagian ujung atas tabung dekat dengan mata pengamat yang berfungsi untuk memperbesar bayangan dan membentuk bayangan yang tergak dan diperbesar dari yang dihasilkan oleh lensa objektif vs lensa okuler lensa mikroskop yang berada di bagian ujung atas tabung dekat dengan mata pengamat yang berfungsi untuk memperbesar bayangan dan membentuk bayangan yang tergak dan diperbesar dari yang dihasilkan oleh lensa objektif\n",
            "\t 34. lensa objektif lensa mikroskop yang berada di bagian ujung bawah tabung dekat dengan objek yang diamati yan memiliki fungsi untuk menentukan perbesaran bayangan objek pengamatan dari 10x 40x hingga 100x vs lensa objektif lensa mikroskop yang berada di bagian ujung bawah tabung dekat dengan objek yang diamati yan memiliki fungsi untuk menentukan perbesaran bayangan objek pengamatan dari 10x 40x hingga 100x\n",
            "\t 35. lensa objektif diatur oleh revolver vs lensa objektif diatur oleh revolver\n",
            "\t 36. revolver tuas penyangga lensa objektif pemutar lensa yang berfungsi untuk mengatur pembesaran lensa objektif dan mempermudah pengaturan nilai pengamatan mikroskop vs revolver tuas penyangga lensa objektif pemutar lensa yang berfungsi untuk mengatur pembesaran lensa objektif dan mempermudah pengaturan nilai pengamatan mikroskop\n",
            "\t 37. diafragma pengatur cahaya pada mikroskop yang letaknya ada di bagian bawah meja objek berfungsi dalam mengatur jumlah cahaya yang masuk ke mata serta difokuskan ke objek vs diafragma pengatur cahaya pada mikroskop yang letaknya ada di bagian bawah meja objek berfungsi dalam mengatur jumlah cahaya yang masuk ke mata serta difokuskan ke objek\n",
            "\t 38. kondensor mengumpulkan dan memfokuskan cahaya untuk menerangi objek dan lensa mikroskop lainnya vs kondensor mengumpulkan dan memfokuskan cahaya untuk menerangi objek dan lensa mikroskop lainnya\n",
            "\t 39. penggunaan kondensor yaitu dengan diputar ke kanan kiri naik ataupun turun vs penggunaan kondensor yaitu dengan diputar ke kanan kiri naik ataupun turun\n",
            "\t 40. reflektor cermin pengatur pada mikroskop yang memiliki fungsi dalam memantulkan cahaya dari cermin ke meja objek vs reflektor cermin pengatur pada mikroskop yang memiliki fungsi dalam memantulkan cahaya dari cermin ke meja objek\n",
            "\t 41. meja mikroskop alas untuk meletakkan objek yang akan diamati vs meja mikroskop alas untuk meletakkan objek yang akan diamati\n",
            "\t 42. penjepit kaca klip yang digunakan untuk menjepit preparat agar tidak mudah bergeser saat sedang dilakukannya observasi vs penjepit kaca klip yang digunakan untuk menjepit preparat agar tidak mudah bergeser saat sedang dilakukannya observasi\n",
            "\t 43. sendi inklinasi pengatur sudut yang berfungsi unutk mengatur besar kecilnya derajat kemiringan yang diinginkan pada saat mengamati objek vs sendi inklinasi pengatur sudut yang berfungsi unutk mengatur besar kecilnya derajat kemiringan yang diinginkan pada saat mengamati objek\n",
            "\t 44. kaki mikroskop menyangga atau menopang mikroskop vs kaki mikroskop menyangga atau menopang mikroskop\n",
            "\t 45. lengan mikroskop pegangan pada mikroskop vs lengan mikroskop pegangan pada mikroskop\n",
            "\t 46. teori vs teori\n",
            "\t 47. metode vs metode\n",
            "\t 48. hasil dan pembahasan vs hasil dan pembahasan\n",
            "\t 49. pembahasan vs pembahasan\n",
            "\t 50. evaluasi mandiri vs evaluasi mandiri\n",
            "\t 51. sebutkan letak dan jelaskan secara singkat fungsi sel jaringan dari dense connective tissue blood of human smear neurocytes isolated spinal cord corpus ventriculi dan intestine berdasarkan anatomi dan fisiologi tubuh manusia ! vs sebutkan letak dan jelaskan secara singkat fungsi sel jaringan dari dense connective tissue blood of human smear neurocytes isolated spinal cord corpus ventriculi dan intestine berdasarkan anatomi dan fisiologi tubuh manusia !\n",
            "\t 52. apa saja jenis sel epitel manusia ? vs apa saja jenis sel epitel manusia ?\n",
            "\t 53. apa perbedaan struktur anatomi yang dimiliki sel sel epitel tersebut dengan mengacu pada hasil pengamatan pada mikroskop ? vs apa perbedaan struktur anatomi yang dimiliki sel sel epitel tersebut dengan mengacu pada hasil pengamatan pada mikroskop ?\n",
            "\t 54. jelaskan dengan gambar vs jelaskan dengan gambar\n",
            "\t 54. jelaskan dengan gambar vs jelaskan dengan gambar\n",
            "\t 55. jelaskan perbedaan fungsi dari jenis sel epitel tersebut dan kaitkan dengan struktur anatomi pada jawaban no 2 ! vs jelaskan perbedaan fungsi dari jenis sel epitel tersebut dan kaitkan dengan struktur anatomi pada jawaban no 2 !\n",
            "\t 56. apa saja jenis sel otot manusia ? vs apa saja jenis sel otot manusia ?\n",
            "\t 57. apa perbedaan struktur anatomi yang dimiliki sel sel otot tersebut dengan mengacu pada hasil pengamatan pada mikroskop ? vs apa perbedaan struktur anatomi yang dimiliki sel sel otot tersebut dengan mengacu pada hasil pengamatan pada mikroskop ?\n",
            "\t 58. jelaskan dengan gambar vs jelaskan dengan gambar\n",
            "\t 58. jelaskan dengan gambar vs jelaskan dengan gambar\n",
            "\t 59. jelaskan perbedaan fungsi dari jenis sel otot tersebut dan kaitkan dengan struktur anatomi pada jawaban no 4 ! vs jelaskan perbedaan fungsi dari jenis sel otot tersebut dan kaitkan dengan struktur anatomi pada jawaban no 4 !\n",
            "\t 60. saran vs saran\n",
            "\n",
            "Copy-pasted line:\n",
            "\t 1. seperti kita ketahui manusia memiliki salah satu bagian tubuh yaitu mata yang memiliki fungsi sebagai indra penglihatan vs seperti kita ketahui manusia memiliki salah satu bagian tubuh yaitu mata yang memiliki fungsi sebagai indra penglihatan\n",
            "\t 2. meskipun demikian mata manusia memiliki batasan dalam melihat objek berukuran normal hingga besar vs meskipun demikian mata manusia memiliki batasan dalam melihat objek berukuran normal hingga besar\n",
            "\t 3. oleh sebab itu ditemukannya titik terang dengan adanya penemuan mikroskop oleh antoine van leeuwenhoek yang merupakan seorang belanda pada sekitar tahun 1590 an vs oleh sebab itu ditemukannya titik terang dengan adanya penemuan mikroskop oleh antoine van leeuwenhoek yang merupakan seorang belanda pada sekitar tahun 1590 an\n",
            "\t 4. antonie menggunakan mikroskop dalam mengamati air tawar untuk mengidentifikasi suatu mikroorganisme bersel tunggal yang disebut hewan vs antonie menggunakan mikroskop dalam mengamati air tawar untuk mengidentifikasi suatu mikroorganisme bersel tunggal yang disebut hewan\n",
            "\t 5. dari hal demikian dapat disimpulkan bahwa mikroskop adalah solusi yang ditemukan atas ketidakmampuan indera penglihatan manusia dalam mengamati benda dengan ukuran yang sangat kecil benda yang terlihat tak kasat mata apabila dilihat oleh mata telanjang vs dari hal demikian dapat disimpulkan bahwa mikroskop adalah solusi yang ditemukan atas ketidakmampuan indera penglihatan manusia dalam mengamati benda dengan ukuran yang sangat kecil benda yang terlihat tak kasat mata apabila dilihat oleh mata telanjang\n",
            "\t 6. mikroskop berasal dari bahasa latin yaitu microscopium yang diambil dari bahasa yunani yang terdiri dari mikros yang berarti kecil dan skopein yang mengandung arti melihat vs mikroskop berasal dari bahasa latin yaitu microscopium yang diambil dari bahasa yunani yang terdiri dari mikros yang berarti kecil dan skopein yang mengandung arti melihat\n",
            "\t 7. secara umum mikroskop merupakan instrumen yang biasa digunakan untuk memvisualisasikan objek yang sangat kecil objek mikroskopik sehingga memberikan gambaran jelas detail yang dapat dilihat dengan mata telanjang contohnya seperti melihat sel tubuh manusia dan mikroorganisme lainnya vs secara umum mikroskop merupakan instrumen yang biasa digunakan untuk memvisualisasikan objek yang sangat kecil objek mikroskopik sehingga memberikan gambaran jelas detail yang dapat dilihat dengan mata telanjang contohnya seperti melihat sel tubuh manusia dan mikroorganisme lainnya\n",
            "\t 8. bahkan beberapa mikroskop dapat digunakan untuk melihat bagian terkecil dari sebuah objek mikroskopik seperti contoh mikroskop dapat menampakan gambar organel organel sel dengan jelas seperti nukleus retikulum endoplasma mitokondria dan organel lainnya secara teliti vs bahkan beberapa mikroskop dapat digunakan untuk melihat bagian terkecil dari sebuah objek mikroskopik seperti contoh mikroskop dapat menampakan gambar organel organel sel dengan jelas seperti nukleus retikulum endoplasma mitokondria dan organel lainnya secara teliti\n",
            "\t 9. tujuan praktikum ini ialah untuk mengidentifikasi struktur atau bagian mikroskop cahaya membagankan prosedur pengoperasian mikroskop cahaya serta untuk mengetahui gambaran detail dari sebuah sel yang hidup di dalam tubuh manusia vs tujuan praktikum ini ialah untuk mengidentifikasi struktur atau bagian mikroskop cahaya membagankan prosedur pengoperasian mikroskop cahaya serta untuk mengetahui gambaran detail dari sebuah sel yang hidup di dalam tubuh manusia\n",
            "\t 10. konsep dasar vs konsep dasar\n",
            "\t 11. seiring waktu berjalan mikroskop telah mendapatkan banyak kemajuan inovasi teknologi yang membuat kualitas gambar yang dihasilkan terus meningkat vs seiring waktu berjalan mikroskop telah mendapatkan banyak kemajuan inovasi teknologi yang membuat kualitas gambar yang dihasilkan terus meningkat\n",
            "\t 12. hal ini dapat dilihat dengan inovasi kemajuaan mikroskop dengan perbesaran 300 ke mikroskop elektron yang saat ini berkembang mampu melakukan perbesaran hingga lebih dari 250000 terdapat berbagai macam jenis mikroskop yang digolongkan berdasarkan jenis lensa penampakan objek serta sumber cahaya vs hal ini dapat dilihat dengan inovasi kemajuaan mikroskop dengan perbesaran 300 ke mikroskop elektron yang saat ini berkembang mampu melakukan perbesaran hingga lebih dari 250000 terdapat berbagai macam jenis mikroskop yang digolongkan berdasarkan jenis lensa penampakan objek serta sumber cahaya\n",
            "\t 13. berdasarkan jenis lensa mikroskop dibagi menjadi dua yaitu mikroskop monokuler dan binokuler sedangkan berdasarkan penampakan objeknya mikroskop dibagi menjadi mikroskop 2 dimensi dan mikroskop 3 dimensi vs berdasarkan jenis lensa mikroskop dibagi menjadi dua yaitu mikroskop monokuler dan binokuler sedangkan berdasarkan penampakan objeknya mikroskop dibagi menjadi mikroskop 2 dimensi dan mikroskop 3 dimensi\n",
            "\t 14. serta berdasakan sumber cahaya mikroskop ada dua macam yaitu mikroskop elektron dan mikroskop cahaya vs serta berdasakan sumber cahaya mikroskop ada dua macam yaitu mikroskop elektron dan mikroskop cahaya\n",
            "\t 15. mikroskop cahaya terdiri dari beberapa macam antara lain mikroskop medan gelap mikroskop medan terang mikroskop fase kontras dan mikroskop fluoresen vs mikroskop cahaya terdiri dari beberapa macam antara lain mikroskop medan gelap mikroskop medan terang mikroskop fase kontras dan mikroskop fluoresen\n",
            "\t 16. pada mikroskop medan gelap kondensor mengarahkan cahaya secara miring sehingga cahaya dihamburkan dari spesimen yang kemudian tampak terang dengan latar belakang gelap vs pada mikroskop medan gelap kondensor mengarahkan cahaya secara miring sehingga cahaya dihamburkan dari spesimen yang kemudian tampak terang dengan latar belakang gelap\n",
            "\t 17. sedangkan pada mikroskop medan terang spesimen diterangi oleh cahaya yang difokuskan oleh kondensor yang memberikan hasil spesimen tampak gelap dengan latar belakang yang terang vs sedangkan pada mikroskop medan terang spesimen diterangi oleh cahaya yang difokuskan oleh kondensor yang memberikan hasil spesimen tampak gelap dengan latar belakang yang terang\n",
            "\t 18. terdapat juga mikroskop fase kontras yang dimana optiknya mencakup tujuan khusus dan kondensor yang membuat komponen seluler terlihat sedikit berbeda dalam indeks biasnya sebab cahaya ditransimisikan melalui spesimen dengan indeks bias yang berbeda dari medium sekitarnya vs terdapat juga mikroskop fase kontras yang dimana optiknya mencakup tujuan khusus dan kondensor yang membuat komponen seluler terlihat sedikit berbeda dalam indeks biasnya sebab cahaya ditransimisikan melalui spesimen dengan indeks bias yang berbeda dari medium sekitarnya\n",
            "\t 19. berbeda dengan halnya mikroskop fluoresen mikroskop ini biasa digunakan untuk melihat spesimen secara kimiawi vs berbeda dengan halnya mikroskop fluoresen mikroskop ini biasa digunakan untuk melihat spesimen secara kimiawi\n",
            "\t 20. melalui lensa mikroskop bayangan suatu benda dapat diperbesar dan tampak lebih jelas seperti contohnya pada kasus ini ialah pengamatan akan empat jenis sel yang terdapat pada tubuh manusia dengan perbesaran 40 kali dan 100 kali vs melalui lensa mikroskop bayangan suatu benda dapat diperbesar dan tampak lebih jelas seperti contohnya pada kasus ini ialah pengamatan akan empat jenis sel yang terdapat pada tubuh manusia dengan perbesaran 40 kali dan 100 kali\n",
            "\t 21. empat sample tersebut terdiri dari skeletal muscle otot lurik spindal cord sumsum tulang belakang neuryctes sel saraf dan simple columnar epithelium epitel silindris selapis vs empat sample tersebut terdiri dari skeletal muscle otot lurik spindal cord sumsum tulang belakang neuryctes sel saraf dan simple columnar epithelium epitel silindris selapis\n",
            "\t 22. skeletal muscle ialah otot yang melekat pada rangka yang bekerja secara sadar sedangkan spinal cord ialah jaringan lunak yang dikelilingi oleh tulang belakang vs skeletal muscle ialah otot yang melekat pada rangka yang bekerja secara sadar sedangkan spinal cord ialah jaringan lunak yang dikelilingi oleh tulang belakang\n",
            "\t 23. simple columnar epithelium biasa dikenal dengan vs simple columnar epithelium biasa dikenal dengan\n",
            "\t 24. bayangan suatu benda diperbesar minimal melalui satu lensa mikrsokop vs bayangan suatu benda diperbesar minimal melalui satu lensa mikrsokop\n",
            "\t 25. mikroskop cahaya mempengaruhi cara kerja cahaya masuk ke mata mengguhnakan lensa cembung dimana kedua sisi lensa melengkung ke luar vs mikroskop cahaya mempengaruhi cara kerja cahaya masuk ke mata mengguhnakan lensa cembung dimana kedua sisi lensa melengkung ke luar\n",
            "\t 26. lensa mikroskop bekerja dengan membelokkan cahaya ke arah mata sehingga membuat objek terlihat lebih besar dari yang sebenarnya vs lensa mikroskop bekerja dengan membelokkan cahaya ke arah mata sehingga membuat objek terlihat lebih besar dari yang sebenarnya\n",
            "\t 27. namun meskipun banyak jenis dan variasinya pada dasarnya mikroskop terdiri dari dua lensa yaitu lensa okuler dan lensa objektif vs namun meskipun banyak jenis dan variasinya pada dasarnya mikroskop terdiri dari dua lensa yaitu lensa okuler dan lensa objektif\n",
            "\t 28. begitupula dengan bagian mikroskop hampir semua mikroskop tersusun atas struktur yang hampir sama antara lain vs begitupula dengan bagian mikroskop hampir semua mikroskop tersusun atas struktur yang hampir sama antara lain\n",
            "\t 29. gambar 1 mikroskop dan bagiannya vs gambar 1 mikroskop dan bagiannya\n",
            "\t 30. makrometer pemutar kasar yang digunakan untuk menaik turunkan tabung mikroskop secara cepat saat ingin mengukur jarak antara lensa objektif dengan preparat vs makrometer pemutar kasar yang digunakan untuk menaik turunkan tabung mikroskop secara cepat saat ingin mengukur jarak antara lensa objektif dengan preparat\n",
            "\t 31. mikrometer pemutar halus yang memiliki fungsi menaik turunkan tabung mikroskop secara lambat yang biasanya ditujukan untuk mengatur fokus agar menghasilkan gambar yang lebih jelas vs mikrometer pemutar halus yang memiliki fungsi menaik turunkan tabung mikroskop secara lambat yang biasanya ditujukan untuk mengatur fokus agar menghasilkan gambar yang lebih jelas\n",
            "\t 32. tabung mikroskop penghubung antara lensa objektif dan lensa okuler yang berguna untuk mengatur fokus vs tabung mikroskop penghubung antara lensa objektif dan lensa okuler yang berguna untuk mengatur fokus\n",
            "\t 33. lensa okuler lensa mikroskop yang berada di bagian ujung atas tabung dekat dengan mata pengamat yang berfungsi untuk memperbesar bayangan dan membentuk bayangan yang tergak dan diperbesar dari yang dihasilkan oleh lensa objektif vs lensa okuler lensa mikroskop yang berada di bagian ujung atas tabung dekat dengan mata pengamat yang berfungsi untuk memperbesar bayangan dan membentuk bayangan yang tergak dan diperbesar dari yang dihasilkan oleh lensa objektif\n",
            "\t 34. lensa objektif lensa mikroskop yang berada di bagian ujung bawah tabung dekat dengan objek yang diamati yan memiliki fungsi untuk menentukan perbesaran bayangan objek pengamatan dari 10x 40x hingga 100x vs lensa objektif lensa mikroskop yang berada di bagian ujung bawah tabung dekat dengan objek yang diamati yan memiliki fungsi untuk menentukan perbesaran bayangan objek pengamatan dari 10x 40x hingga 100x\n",
            "\t 35. lensa objektif diatur oleh revolver vs lensa objektif diatur oleh revolver\n",
            "\t 36. revolver tuas penyangga lensa objektif pemutar lensa yang berfungsi untuk mengatur pembesaran lensa objektif dan mempermudah pengaturan nilai pengamatan mikroskop vs revolver tuas penyangga lensa objektif pemutar lensa yang berfungsi untuk mengatur pembesaran lensa objektif dan mempermudah pengaturan nilai pengamatan mikroskop\n",
            "\t 37. diafragma pengatur cahaya pada mikroskop yang letaknya ada di bagian bawah meja objek berfungsi dalam mengatur jumlah cahaya yang masuk ke mata serta difokuskan ke objek vs diafragma pengatur cahaya pada mikroskop yang letaknya ada di bagian bawah meja objek berfungsi dalam mengatur jumlah cahaya yang masuk ke mata serta difokuskan ke objek\n",
            "\t 38. kondensor mengumpulkan dan memfokuskan cahaya untuk menerangi objek dan lensa mikroskop lainnya vs kondensor mengumpulkan dan memfokuskan cahaya untuk menerangi objek dan lensa mikroskop lainnya\n",
            "\t 39. penggunaan kondensor yaitu dengan diputar ke kanan kiri naik ataupun turun vs penggunaan kondensor yaitu dengan diputar ke kanan kiri naik ataupun turun\n",
            "\t 40. reflektor cermin pengatur pada mikroskop yang memiliki fungsi dalam memantulkan cahaya dari cermin ke meja objek vs reflektor cermin pengatur pada mikroskop yang memiliki fungsi dalam memantulkan cahaya dari cermin ke meja objek\n",
            "\t 41. meja mikroskop alas untuk meletakkan objek yang akan diamati vs meja mikroskop alas untuk meletakkan objek yang akan diamati\n",
            "\t 42. penjepit kaca klip yang digunakan untuk menjepit preparat agar tidak mudah bergeser saat sedang dilakukannya observasi vs penjepit kaca klip yang digunakan untuk menjepit preparat agar tidak mudah bergeser saat sedang dilakukannya observasi\n",
            "\t 43. sendi inklinasi pengatur sudut yang berfungsi unutk mengatur besar kecilnya derajat kemiringan yang diinginkan pada saat mengamati objek vs sendi inklinasi pengatur sudut yang berfungsi unutk mengatur besar kecilnya derajat kemiringan yang diinginkan pada saat mengamati objek\n",
            "\t 44. kaki mikroskop menyangga atau menopang mikroskop vs kaki mikroskop menyangga atau menopang mikroskop\n",
            "\t 45. lengan mikroskop pegangan pada mikroskop vs lengan mikroskop pegangan pada mikroskop\n",
            "\t 46. teori vs teori\n",
            "\t 47. metode vs metode\n",
            "\t 48. hasil dan pembahasan vs hasil dan pembahasan\n",
            "\t 49. pembahasan vs pembahasan\n",
            "\t 50. evaluasi mandiri vs evaluasi mandiri\n",
            "\t 51. sebutkan letak dan jelaskan secara singkat fungsi sel jaringan dari dense connective tissue blood of human smear neurocytes isolated spinal cord corpus ventriculi dan intestine berdasarkan anatomi dan fisiologi tubuh manusia ! vs sebutkan letak dan jelaskan secara singkat fungsi sel jaringan dari dense connective tissue blood of human smear neurocytes isolated spinal cord corpus ventriculi dan intestine berdasarkan anatomi dan fisiologi tubuh manusia !\n",
            "\t 52. apa saja jenis sel epitel manusia ? vs apa saja jenis sel epitel manusia ?\n",
            "\t 53. apa perbedaan struktur anatomi yang dimiliki sel sel epitel tersebut dengan mengacu pada hasil pengamatan pada mikroskop ? vs apa perbedaan struktur anatomi yang dimiliki sel sel epitel tersebut dengan mengacu pada hasil pengamatan pada mikroskop ?\n",
            "\t 54. jelaskan dengan gambar vs jelaskan dengan gambar\n",
            "\t 54. jelaskan dengan gambar vs jelaskan dengan gambar\n",
            "\t 55. jelaskan perbedaan fungsi dari jenis sel epitel tersebut dan kaitkan dengan struktur anatomi pada jawaban no 2 ! vs jelaskan perbedaan fungsi dari jenis sel epitel tersebut dan kaitkan dengan struktur anatomi pada jawaban no 2 !\n",
            "\t 56. apa saja jenis sel otot manusia ? vs apa saja jenis sel otot manusia ?\n",
            "\t 57. apa perbedaan struktur anatomi yang dimiliki sel sel otot tersebut dengan mengacu pada hasil pengamatan pada mikroskop ? vs apa perbedaan struktur anatomi yang dimiliki sel sel otot tersebut dengan mengacu pada hasil pengamatan pada mikroskop ?\n",
            "\t 58. jelaskan dengan gambar vs jelaskan dengan gambar\n",
            "\t 58. jelaskan dengan gambar vs jelaskan dengan gambar\n",
            "\t 59. jelaskan perbedaan fungsi dari jenis sel otot tersebut dan kaitkan dengan struktur anatomi pada jawaban no 4 ! vs jelaskan perbedaan fungsi dari jenis sel otot tersebut dan kaitkan dengan struktur anatomi pada jawaban no 4 !\n",
            "\t 60. saran vs saran\n",
            "\n",
            "Line with similarity higher than 35%:\n",
            "\t 1. penggunaan mikroskop dapat dimulai dengan mengatur tata letak mikroskop sesuai dengan posisi yang tepat dan diinginkan seperti ditempatkan di permukaan yang rata dan stabil vs pada percobaan kali ini tata cara penggunaan mikroskop cahaya yang benar dimulai dengan meletakkan mikroskop ke meja yang praktikum yang datar dan stabil dengan berhati hati memegang kaki mikroskop dan badan mikroskop\n",
            "\t 2. pengaturan posisi sample dengan kaca preparat diusahakan berada dibawah lensa objektif vs setelah preparat terpasang aturlah posisi preparat sesuai dengan sampel agar letaknya berada dibawah lensa objektif\n",
            "\t 2. pengaturan posisi sample dengan kaca preparat diusahakan berada dibawah lensa objektif vs pengaturan pada mikroskop adalah pengaturan cahaya pengaturan perbesaran lensa pengaturan fokus lensa serta pengaturan posisi meja preparat\n",
            "\t 3. perlu diingat khusus untuk perbesaran 100x penggunaan imersi oil diperlukan untuk menciptakan jalur cahaya yang membantu menjembatani celah antara slide mikroskop dengan lensa objektif dan untuk membantu menghasilkan gambar dengan lebih jelas dan ternag vs tetapi sebelum melakukan pembesaran 100x diperlukan penggunaan minyak imersi pada sampel di preparate untuk membantu agar objek yang dilihat lebih jelas\n",
            "\t 4. apabila selama pengamatan berlangsung intensitas cahaya yang digunakan kurang atau mungkin terlalu terang brigthness adjustment dapat dikontrol untuk menyesuaikan cahaya sesuai dengan yang diinginkan vs apabila dirasa intensitas cahaya yang digunakan terlalu terang maka dapat diatur kembali intensitas cahaya sesuai dengan kenyamanan pengamat di brightness adjustment\n",
            "\t 5. preparat dan objek pengamatan berupa sel skeletal muscle otot lurik spindal cord sumsum tulang belakang neurocytes sel saraf dan simple columnar epithelium epitel silindris selapis vs empat sample tersebut terdiri dari skeletal muscle otot lurik spindal cord sumsum tulang belakang neuryctes sel saraf dan simple columnar epithelium epitel silindris selapis\n",
            "\t 6. metode percobaan vs metode\n",
            "\t 7. hasil percobaan vs hasil dan pembahasan\n",
            "\t 7. hasil percobaan vs hasil pengamatan\n",
            "\t 7. hasil percobaan vs tabel 11 hasil percobaan mikroskop pada 5 sampel\n",
            "\t 8. percobaan dilakukan dengan perbesaran lensa objektif sebesar 4x 10x 40x dan 100x menggunakan mikroskop 2d vs selama percobaan digunakan mikroskop cahaya dengan perbesaran lensa objektif sebesar 4x 10 40x dan 100x\n",
            "\t 9. spesimen yang digunakan pada percobaan kali ini terdiri dari 4 jenis sel yang terdiri dari skeletal muscle otot lurik spindal cord sumsum tulang belakang neurocytes sel saraf dan simple columnar epithelium epitel silindris selapis vs empat sample tersebut terdiri dari skeletal muscle otot lurik spindal cord sumsum tulang belakang neuryctes sel saraf dan simple columnar epithelium epitel silindris selapis\n",
            "\t 10. berikut merupakan tabel pengamatan pada percobaan kali ini vs tabel 11 hasil percobaan mikroskop pada 5 sampel\n",
            "\t 10. berikut merupakan tabel pengamatan pada percobaan kali ini vs perbedaan fungsi dan deskripsi sel otot dapat dijelaskan melalui tabel berikut\n",
            "\t 11. skeletal muscle vs jenis sel otot manusia berdasarkan bentuknya terbagi menjadi tiga smooth muscle polos cardiac muscle otot jantung dan skeletal muscle lurik\n",
            "\t 12. skeletal muscle atau dalam bahasa indonesia berarti otot rangka adalah otot yang melekat pada tulang oleh tendon yang menghasilkan gerakan bagian tubuh yang berhubungan satu sama lain vs skeletal muscle ialah otot yang melekat pada rangka yang bekerja secara sadar sedangkan spinal cord ialah jaringan lunak yang dikelilingi oleh tulang belakang\n",
            "\t 13. sel otot rangka secara teoritis memiliki bentuk atau ukuran yang lebih panjang daripada jenis jaringan otot lainnya dan berbentuk silindris dan tidak bercabang serta memiliki inti lebih dari satu yang tersebar di tepi sel otot vs perbedaan bentuk selnya diantara lain sel otot polos berbentuk pipih dan memiliki satu inti sel di tengah sel otot jantung berbentuk ruas ruas yang bercabang dengan satu hingga dua inti sel di tengahnya sel otot lurik berbentuk silindris beruas padat dengan jumlah ini sel banyak di tepi\n",
            "\t 14. selain materi abu abu dan materi putih bagian lain pada spinal cord yang ditunjukan oleh mikroskop seperti central canal yag berbentuk bulat yang berada di tengah sumsum tulang belakang pada materi abu abu yang mengandung cairan tulang belakang serebral vs yang daerah abu abu berada pada warna yang lebih gelap dan daerha putih berada pada warna yang lebih terang\n",
            "\t 15. simple squamous epithelium vs simple columnar epithelium biasa dikenal dengan\n",
            "\t 16. simple squamous epithelium biasa dikenal dengan epitel pipih selapis vs simple columnar epithelium biasa dikenal dengan\n",
            "\t 16. simple squamous epithelium biasa dikenal dengan epitel pipih selapis vs gambar 2 jaringan epitel 1 pipih selapis 2 kubus selapis 3 silindris selapis\n",
            "\t 17. dense connective tissue biasa ditemukan di ligamen dan tendon vs dense connective tissue merupakan jaringan penyusun pada ligamen dan tendon\n",
            "\t 18. blood of human smear memiliki peran dalam memberikan informasi mengenai jumlah dan bentuk darah vs pada bloof of human smear terlihat bulatan bultan sel darah\n",
            "\t 18. blood of human smear memiliki peran dalam memberikan informasi mengenai jumlah dan bentuk darah vs blood of human smear merupakan sampel dari darah yang disebarkan pada preparat fungsi pada umumnya digunakan untuk melakukan pengecekan terhadap sel sel darah\n",
            "\t 19. spinal cord berada di sumsum tulang belakang dna berfungsi menyampaikan informasi sensorik dari tubuh ke otak mengirimkan perintah motorik dari otak ke tubuh serta mengatur gerakan yang biasa dilakukan di luar batas kesadaran manusia vs spinal cord merupakan bagian dari sumsum tulang belakang manusia yang berfungsi untuk meneruskan sinyal dari otak ke alat gerak meneruskan sinyal dari badan ke otak dan mengatur refleks\n",
            "\t 20. jenis epitel pada tubuh manusia terdiri dari vs apa saja jenis sel epitel manusia ?\n",
            "\t 21. epitel skuamosa selapis memiliki sel dengan bentuk pipih dan memiliki inti di pusat sel berbentuk bujur telur serta berdiri pada membran basal vs perbedaan bentuk selnya diantara lain sel otot polos berbentuk pipih dan memiliki satu inti sel di tengah sel otot jantung berbentuk ruas ruas yang bercabang dengan satu hingga dua inti sel di tengahnya sel otot lurik berbentuk silindris beruas padat dengan jumlah ini sel banyak di tepi\n",
            "\t 22. simple columnar ephitellium vs simple columnar epithelium biasa dikenal dengan\n",
            "\t 23. simple columnar ephitellium vs simple columnar epithelium biasa dikenal dengan\n",
            "\t 24. pseudostratified columnar epithelium vs simple columnar epithelium biasa dikenal dengan\n",
            "\t 25. jenis dan perbedaan fungsi epitel pada tubuh manusia vs apa saja jenis sel epitel manusia ?\n",
            "\t 25. jenis dan perbedaan fungsi epitel pada tubuh manusia vs jelaskan perbedaan fungsi dari jenis sel epitel tersebut dan kaitkan dengan struktur anatomi pada jawaban no 2 !\n",
            "\t 25. jenis dan perbedaan fungsi epitel pada tubuh manusia vs jelaskan perbedaan fungsi dari jenis sel otot tersebut dan kaitkan dengan struktur anatomi pada jawaban no 4 !\n",
            "\t 26. simple columnar ephitellium vs simple columnar epithelium biasa dikenal dengan\n",
            "\t 27. pseudostratified columnar epithelium vs simple columnar epithelium biasa dikenal dengan\n",
            "\t 28. jenis sel otot manusia antara lain vs apa saja jenis sel epitel manusia ?\n",
            "\t 28. jenis sel otot manusia antara lain vs apa saja jenis sel otot manusia ?\n",
            "\t 29. simpulan dan saran vs kesimpulan dan saran\n",
            "\t 29. simpulan dan saran vs saran\n",
            "\t 30. mikroskop merupakan instrumen yang biasa digunakan untuk memvisualisasikan objek yang sangat kecil objek mikroskopik sehingga memberikan gambaran jelas detail yang dapat dilihat dengan mata telanjang penggunaan mikroskop yang baik dan benar perlu dilakukan agar mikroskop awet dan tidak rusak vs secara umum mikroskop merupakan instrumen yang biasa digunakan untuk memvisualisasikan objek yang sangat kecil objek mikroskopik sehingga memberikan gambaran jelas detail yang dapat dilihat dengan mata telanjang contohnya seperti melihat sel tubuh manusia dan mikroorganisme lainnya\n",
            "\t 30. mikroskop merupakan instrumen yang biasa digunakan untuk memvisualisasikan objek yang sangat kecil objek mikroskopik sehingga memberikan gambaran jelas detail yang dapat dilihat dengan mata telanjang penggunaan mikroskop yang baik dan benar perlu dilakukan agar mikroskop awet dan tidak rusak vs mikroskop adalah alat yang digunakan untuk mengamati objek yang tidak dapat dilihat dengan mata telanjang manusia\n",
            "\t 31. mikroskop dapat membantu mata melihat perbesaran benda mikroskopis dengan perbesaran 4x 10x 40x sampai dengan 100x vs selama percobaan digunakan mikroskop cahaya dengan perbesaran lensa objektif sebesar 4x 10 40x dan 100x\n",
            "\t 32. khusus pada pembesaran 100x diperlukan minyak imersi agar preparat tidak lecet vs tetapi sebelum melakukan pembesaran 100x diperlukan penggunaan minyak imersi pada sampel di preparate untuk membantu agar objek yang dilihat lebih jelas\n",
            "\t 33. terdapat minimal enam jenis jaringan epitel pada tubuh manusia dengan struktur anatomi dan fisiologi yang berbeda beda antara lain pseudostratified columnar epithelium simple columnar ephitellium stratified squamous ephitellium stratified cuboidal ephitellium simple cuboidal ephitellium simple columnar ephitellium dan simple squamous ephitellium vs simple columnar epithelium biasa dikenal dengan\n",
            "\t 34. otot manusia dibedakan menjadi tiga jenis berdasarkan ciri dan fungsinya yaitu otot lurik otot polos dan otot jantung vs jenis sel otot manusia berdasarkan bentuknya terbagi menjadi tiga smooth muscle polos cardiac muscle otot jantung dan skeletal muscle lurik\n",
            "\t 34. otot manusia dibedakan menjadi tiga jenis berdasarkan ciri dan fungsinya yaitu otot lurik otot polos dan otot jantung vs gambar 3 1 otot polos 2 otot jantung 3 otot lurik\n",
            "\n",
            "---------------------------------------------------------------------------------------------------------------------------\n",
            "\n"
          ]
        }
      ]
    },
    {
      "cell_type": "markdown",
      "source": [
        "# **PDF Plagiarism Check Function**"
      ],
      "metadata": {
        "id": "i9rLKB6iYWso"
      }
    },
    {
      "cell_type": "code",
      "source": [
        "# Defining the Plagiarism Checker function for pdf files\n",
        "\n",
        "def Plagiarism_checker_pdf(pdf_path):\n",
        "  text_list = list_all_text(pdf_path,pdf_file(pdf_path))\n",
        "  main_code(text_list)"
      ],
      "metadata": {
        "id": "TyvwPC5xeaU5"
      },
      "execution_count": 20,
      "outputs": []
    },
    {
      "cell_type": "markdown",
      "source": [
        "## **PDF file Example**"
      ],
      "metadata": {
        "id": "tdGhzK-8Tz4c"
      }
    },
    {
      "cell_type": "code",
      "source": [
        "Plagiarism_checker_pdf(folder_pdf)"
      ],
      "metadata": {
        "colab": {
          "base_uri": "https://localhost:8080/"
        },
        "id": "Xf5SsuOdfYkt",
        "outputId": "b129800e-086d-43ff-f355-5e003ce09923"
      },
      "execution_count": 21,
      "outputs": [
        {
          "output_type": "stream",
          "name": "stdout",
          "text": [
            "file vir.pdf vs file wid.pdf\n",
            "\tSimilarity score is 0.00%! Congratulations, you may upload your work :)!\n",
            "\n",
            "---------------------------------------------------------------------------------------------------------------------------\n",
            "\n"
          ]
        },
        {
          "output_type": "stream",
          "name": "stderr",
          "text": [
            "<__array_function__ internals>:180: VisibleDeprecationWarning: Creating an ndarray from ragged nested sequences (which is a list-or-tuple of lists-or-tuples-or ndarrays with different lengths or shapes) is deprecated. If you meant to do this, you must specify 'dtype=object' when creating the ndarray.\n"
          ]
        }
      ]
    }
  ]
}
