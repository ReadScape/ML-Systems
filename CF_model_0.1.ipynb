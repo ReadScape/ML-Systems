{
  "cells": [
    {
      "cell_type": "code",
      "execution_count": null,
      "metadata": {
        "id": "a8w7td-8xKM3"
      },
      "outputs": [],
      "source": [
        "import pandas as pd\n",
        "import numpy as np\n",
        "from sklearn.model_selection import train_test_split\n",
        "from tensorflow.keras.layers import Embedding, Dense, Input, Concatenate, Dropout, Flatten\n",
        "from tensorflow.keras.models import Model\n",
        "from tensorflow.keras.callbacks import EarlyStopping, ModelCheckpoint\n",
        "import matplotlib.pyplot as plt"
      ]
    },
    {
      "cell_type": "code",
      "source": [
        "from google.colab import drive\n",
        "drive.mount('/content/drive')"
      ],
      "metadata": {
        "colab": {
          "base_uri": "https://localhost:8080/"
        },
        "id": "wxy2FKTQxgc8",
        "outputId": "71d1e531-91b9-4288-fa68-bdc4edeb5cc5"
      },
      "execution_count": null,
      "outputs": [
        {
          "output_type": "stream",
          "name": "stdout",
          "text": [
            "Drive already mounted at /content/drive; to attempt to forcibly remount, call drive.mount(\"/content/drive\", force_remount=True).\n"
          ]
        }
      ]
    },
    {
      "cell_type": "code",
      "execution_count": null,
      "metadata": {
        "id": "EORGmFdxxKM8"
      },
      "outputs": [],
      "source": [
        "# Load the MovieLens 10M dataset\n",
        "columns = ['UserID', 'MovieID', 'Rating', 'Timestamp']\n",
        "df = pd.read_csv('/content/drive/MyDrive/data/ml-1m/ratings.dat', sep='::', header=None, names=columns, engine='python')"
      ]
    },
    {
      "cell_type": "code",
      "execution_count": null,
      "metadata": {
        "colab": {
          "base_uri": "https://localhost:8080/",
          "height": 424
        },
        "id": "sODYZ6e4xKM9",
        "outputId": "2f83f2e0-df3f-4faf-90ee-4e49d622949c"
      },
      "outputs": [
        {
          "output_type": "execute_result",
          "data": {
            "text/plain": [
              "         UserID  MovieID  Rating  Timestamp\n",
              "0             1     1193       5  978300760\n",
              "1             1      661       3  978302109\n",
              "2             1      914       3  978301968\n",
              "3             1     3408       4  978300275\n",
              "4             1     2355       5  978824291\n",
              "...         ...      ...     ...        ...\n",
              "1000204    6040     1091       1  956716541\n",
              "1000205    6040     1094       5  956704887\n",
              "1000206    6040      562       5  956704746\n",
              "1000207    6040     1096       4  956715648\n",
              "1000208    6040     1097       4  956715569\n",
              "\n",
              "[1000209 rows x 4 columns]"
            ],
            "text/html": [
              "\n",
              "  <div id=\"df-18d42b85-3be6-4216-8984-ba5de18ddbf0\" class=\"colab-df-container\">\n",
              "    <div>\n",
              "<style scoped>\n",
              "    .dataframe tbody tr th:only-of-type {\n",
              "        vertical-align: middle;\n",
              "    }\n",
              "\n",
              "    .dataframe tbody tr th {\n",
              "        vertical-align: top;\n",
              "    }\n",
              "\n",
              "    .dataframe thead th {\n",
              "        text-align: right;\n",
              "    }\n",
              "</style>\n",
              "<table border=\"1\" class=\"dataframe\">\n",
              "  <thead>\n",
              "    <tr style=\"text-align: right;\">\n",
              "      <th></th>\n",
              "      <th>UserID</th>\n",
              "      <th>MovieID</th>\n",
              "      <th>Rating</th>\n",
              "      <th>Timestamp</th>\n",
              "    </tr>\n",
              "  </thead>\n",
              "  <tbody>\n",
              "    <tr>\n",
              "      <th>0</th>\n",
              "      <td>1</td>\n",
              "      <td>1193</td>\n",
              "      <td>5</td>\n",
              "      <td>978300760</td>\n",
              "    </tr>\n",
              "    <tr>\n",
              "      <th>1</th>\n",
              "      <td>1</td>\n",
              "      <td>661</td>\n",
              "      <td>3</td>\n",
              "      <td>978302109</td>\n",
              "    </tr>\n",
              "    <tr>\n",
              "      <th>2</th>\n",
              "      <td>1</td>\n",
              "      <td>914</td>\n",
              "      <td>3</td>\n",
              "      <td>978301968</td>\n",
              "    </tr>\n",
              "    <tr>\n",
              "      <th>3</th>\n",
              "      <td>1</td>\n",
              "      <td>3408</td>\n",
              "      <td>4</td>\n",
              "      <td>978300275</td>\n",
              "    </tr>\n",
              "    <tr>\n",
              "      <th>4</th>\n",
              "      <td>1</td>\n",
              "      <td>2355</td>\n",
              "      <td>5</td>\n",
              "      <td>978824291</td>\n",
              "    </tr>\n",
              "    <tr>\n",
              "      <th>...</th>\n",
              "      <td>...</td>\n",
              "      <td>...</td>\n",
              "      <td>...</td>\n",
              "      <td>...</td>\n",
              "    </tr>\n",
              "    <tr>\n",
              "      <th>1000204</th>\n",
              "      <td>6040</td>\n",
              "      <td>1091</td>\n",
              "      <td>1</td>\n",
              "      <td>956716541</td>\n",
              "    </tr>\n",
              "    <tr>\n",
              "      <th>1000205</th>\n",
              "      <td>6040</td>\n",
              "      <td>1094</td>\n",
              "      <td>5</td>\n",
              "      <td>956704887</td>\n",
              "    </tr>\n",
              "    <tr>\n",
              "      <th>1000206</th>\n",
              "      <td>6040</td>\n",
              "      <td>562</td>\n",
              "      <td>5</td>\n",
              "      <td>956704746</td>\n",
              "    </tr>\n",
              "    <tr>\n",
              "      <th>1000207</th>\n",
              "      <td>6040</td>\n",
              "      <td>1096</td>\n",
              "      <td>4</td>\n",
              "      <td>956715648</td>\n",
              "    </tr>\n",
              "    <tr>\n",
              "      <th>1000208</th>\n",
              "      <td>6040</td>\n",
              "      <td>1097</td>\n",
              "      <td>4</td>\n",
              "      <td>956715569</td>\n",
              "    </tr>\n",
              "  </tbody>\n",
              "</table>\n",
              "<p>1000209 rows × 4 columns</p>\n",
              "</div>\n",
              "    <div class=\"colab-df-buttons\">\n",
              "\n",
              "  <div class=\"colab-df-container\">\n",
              "    <button class=\"colab-df-convert\" onclick=\"convertToInteractive('df-18d42b85-3be6-4216-8984-ba5de18ddbf0')\"\n",
              "            title=\"Convert this dataframe to an interactive table.\"\n",
              "            style=\"display:none;\">\n",
              "\n",
              "  <svg xmlns=\"http://www.w3.org/2000/svg\" height=\"24px\" viewBox=\"0 -960 960 960\">\n",
              "    <path d=\"M120-120v-720h720v720H120Zm60-500h600v-160H180v160Zm220 220h160v-160H400v160Zm0 220h160v-160H400v160ZM180-400h160v-160H180v160Zm440 0h160v-160H620v160ZM180-180h160v-160H180v160Zm440 0h160v-160H620v160Z\"/>\n",
              "  </svg>\n",
              "    </button>\n",
              "\n",
              "  <style>\n",
              "    .colab-df-container {\n",
              "      display:flex;\n",
              "      gap: 12px;\n",
              "    }\n",
              "\n",
              "    .colab-df-convert {\n",
              "      background-color: #E8F0FE;\n",
              "      border: none;\n",
              "      border-radius: 50%;\n",
              "      cursor: pointer;\n",
              "      display: none;\n",
              "      fill: #1967D2;\n",
              "      height: 32px;\n",
              "      padding: 0 0 0 0;\n",
              "      width: 32px;\n",
              "    }\n",
              "\n",
              "    .colab-df-convert:hover {\n",
              "      background-color: #E2EBFA;\n",
              "      box-shadow: 0px 1px 2px rgba(60, 64, 67, 0.3), 0px 1px 3px 1px rgba(60, 64, 67, 0.15);\n",
              "      fill: #174EA6;\n",
              "    }\n",
              "\n",
              "    .colab-df-buttons div {\n",
              "      margin-bottom: 4px;\n",
              "    }\n",
              "\n",
              "    [theme=dark] .colab-df-convert {\n",
              "      background-color: #3B4455;\n",
              "      fill: #D2E3FC;\n",
              "    }\n",
              "\n",
              "    [theme=dark] .colab-df-convert:hover {\n",
              "      background-color: #434B5C;\n",
              "      box-shadow: 0px 1px 3px 1px rgba(0, 0, 0, 0.15);\n",
              "      filter: drop-shadow(0px 1px 2px rgba(0, 0, 0, 0.3));\n",
              "      fill: #FFFFFF;\n",
              "    }\n",
              "  </style>\n",
              "\n",
              "    <script>\n",
              "      const buttonEl =\n",
              "        document.querySelector('#df-18d42b85-3be6-4216-8984-ba5de18ddbf0 button.colab-df-convert');\n",
              "      buttonEl.style.display =\n",
              "        google.colab.kernel.accessAllowed ? 'block' : 'none';\n",
              "\n",
              "      async function convertToInteractive(key) {\n",
              "        const element = document.querySelector('#df-18d42b85-3be6-4216-8984-ba5de18ddbf0');\n",
              "        const dataTable =\n",
              "          await google.colab.kernel.invokeFunction('convertToInteractive',\n",
              "                                                    [key], {});\n",
              "        if (!dataTable) return;\n",
              "\n",
              "        const docLinkHtml = 'Like what you see? Visit the ' +\n",
              "          '<a target=\"_blank\" href=https://colab.research.google.com/notebooks/data_table.ipynb>data table notebook</a>'\n",
              "          + ' to learn more about interactive tables.';\n",
              "        element.innerHTML = '';\n",
              "        dataTable['output_type'] = 'display_data';\n",
              "        await google.colab.output.renderOutput(dataTable, element);\n",
              "        const docLink = document.createElement('div');\n",
              "        docLink.innerHTML = docLinkHtml;\n",
              "        element.appendChild(docLink);\n",
              "      }\n",
              "    </script>\n",
              "  </div>\n",
              "\n",
              "\n",
              "<div id=\"df-8d0d8db5-87b4-4616-a6bf-d77057bfe97f\">\n",
              "  <button class=\"colab-df-quickchart\" onclick=\"quickchart('df-8d0d8db5-87b4-4616-a6bf-d77057bfe97f')\"\n",
              "            title=\"Suggest charts\"\n",
              "            style=\"display:none;\">\n",
              "\n",
              "<svg xmlns=\"http://www.w3.org/2000/svg\" height=\"24px\"viewBox=\"0 0 24 24\"\n",
              "     width=\"24px\">\n",
              "    <g>\n",
              "        <path d=\"M19 3H5c-1.1 0-2 .9-2 2v14c0 1.1.9 2 2 2h14c1.1 0 2-.9 2-2V5c0-1.1-.9-2-2-2zM9 17H7v-7h2v7zm4 0h-2V7h2v10zm4 0h-2v-4h2v4z\"/>\n",
              "    </g>\n",
              "</svg>\n",
              "  </button>\n",
              "\n",
              "<style>\n",
              "  .colab-df-quickchart {\n",
              "      --bg-color: #E8F0FE;\n",
              "      --fill-color: #1967D2;\n",
              "      --hover-bg-color: #E2EBFA;\n",
              "      --hover-fill-color: #174EA6;\n",
              "      --disabled-fill-color: #AAA;\n",
              "      --disabled-bg-color: #DDD;\n",
              "  }\n",
              "\n",
              "  [theme=dark] .colab-df-quickchart {\n",
              "      --bg-color: #3B4455;\n",
              "      --fill-color: #D2E3FC;\n",
              "      --hover-bg-color: #434B5C;\n",
              "      --hover-fill-color: #FFFFFF;\n",
              "      --disabled-bg-color: #3B4455;\n",
              "      --disabled-fill-color: #666;\n",
              "  }\n",
              "\n",
              "  .colab-df-quickchart {\n",
              "    background-color: var(--bg-color);\n",
              "    border: none;\n",
              "    border-radius: 50%;\n",
              "    cursor: pointer;\n",
              "    display: none;\n",
              "    fill: var(--fill-color);\n",
              "    height: 32px;\n",
              "    padding: 0;\n",
              "    width: 32px;\n",
              "  }\n",
              "\n",
              "  .colab-df-quickchart:hover {\n",
              "    background-color: var(--hover-bg-color);\n",
              "    box-shadow: 0 1px 2px rgba(60, 64, 67, 0.3), 0 1px 3px 1px rgba(60, 64, 67, 0.15);\n",
              "    fill: var(--button-hover-fill-color);\n",
              "  }\n",
              "\n",
              "  .colab-df-quickchart-complete:disabled,\n",
              "  .colab-df-quickchart-complete:disabled:hover {\n",
              "    background-color: var(--disabled-bg-color);\n",
              "    fill: var(--disabled-fill-color);\n",
              "    box-shadow: none;\n",
              "  }\n",
              "\n",
              "  .colab-df-spinner {\n",
              "    border: 2px solid var(--fill-color);\n",
              "    border-color: transparent;\n",
              "    border-bottom-color: var(--fill-color);\n",
              "    animation:\n",
              "      spin 1s steps(1) infinite;\n",
              "  }\n",
              "\n",
              "  @keyframes spin {\n",
              "    0% {\n",
              "      border-color: transparent;\n",
              "      border-bottom-color: var(--fill-color);\n",
              "      border-left-color: var(--fill-color);\n",
              "    }\n",
              "    20% {\n",
              "      border-color: transparent;\n",
              "      border-left-color: var(--fill-color);\n",
              "      border-top-color: var(--fill-color);\n",
              "    }\n",
              "    30% {\n",
              "      border-color: transparent;\n",
              "      border-left-color: var(--fill-color);\n",
              "      border-top-color: var(--fill-color);\n",
              "      border-right-color: var(--fill-color);\n",
              "    }\n",
              "    40% {\n",
              "      border-color: transparent;\n",
              "      border-right-color: var(--fill-color);\n",
              "      border-top-color: var(--fill-color);\n",
              "    }\n",
              "    60% {\n",
              "      border-color: transparent;\n",
              "      border-right-color: var(--fill-color);\n",
              "    }\n",
              "    80% {\n",
              "      border-color: transparent;\n",
              "      border-right-color: var(--fill-color);\n",
              "      border-bottom-color: var(--fill-color);\n",
              "    }\n",
              "    90% {\n",
              "      border-color: transparent;\n",
              "      border-bottom-color: var(--fill-color);\n",
              "    }\n",
              "  }\n",
              "</style>\n",
              "\n",
              "  <script>\n",
              "    async function quickchart(key) {\n",
              "      const quickchartButtonEl =\n",
              "        document.querySelector('#' + key + ' button');\n",
              "      quickchartButtonEl.disabled = true;  // To prevent multiple clicks.\n",
              "      quickchartButtonEl.classList.add('colab-df-spinner');\n",
              "      try {\n",
              "        const charts = await google.colab.kernel.invokeFunction(\n",
              "            'suggestCharts', [key], {});\n",
              "      } catch (error) {\n",
              "        console.error('Error during call to suggestCharts:', error);\n",
              "      }\n",
              "      quickchartButtonEl.classList.remove('colab-df-spinner');\n",
              "      quickchartButtonEl.classList.add('colab-df-quickchart-complete');\n",
              "    }\n",
              "    (() => {\n",
              "      let quickchartButtonEl =\n",
              "        document.querySelector('#df-8d0d8db5-87b4-4616-a6bf-d77057bfe97f button');\n",
              "      quickchartButtonEl.style.display =\n",
              "        google.colab.kernel.accessAllowed ? 'block' : 'none';\n",
              "    })();\n",
              "  </script>\n",
              "</div>\n",
              "    </div>\n",
              "  </div>\n"
            ]
          },
          "metadata": {},
          "execution_count": 18
        }
      ],
      "source": [
        "df"
      ]
    },
    {
      "cell_type": "code",
      "execution_count": null,
      "metadata": {
        "id": "fZWCK-_mxKM9"
      },
      "outputs": [],
      "source": [
        "# Convert user IDs and item IDs to integers\n",
        "user_ids = df['UserID'].unique()\n",
        "user_id_map = {old_id: new_id for new_id, old_id in enumerate(user_ids)}\n",
        "df['UserID'] = df['UserID'].map(user_id_map)\n",
        "\n",
        "movie_ids = df['MovieID'].unique()\n",
        "movie_id_map = {old_id: new_id for new_id, old_id in enumerate(movie_ids)}\n",
        "df['MovieID'] = df['MovieID'].map(movie_id_map)"
      ]
    },
    {
      "cell_type": "code",
      "execution_count": null,
      "metadata": {
        "id": "U-d5FRFPxKM-"
      },
      "outputs": [],
      "source": [
        "# Split the data into train, validation, and test sets\n",
        "train_data, temp_data, train_labels, temp_labels = train_test_split(\n",
        "    df[['UserID', 'MovieID']].values,\n",
        "    df['Rating'].values,\n",
        "    test_size=0.2,\n",
        "    random_state=42\n",
        ")\n",
        "\n",
        "validation_data, test_data, validation_labels, test_labels = train_test_split(\n",
        "    temp_data,\n",
        "    temp_labels,\n",
        "    test_size=0.5,\n",
        "    random_state=42\n",
        ")"
      ]
    },
    {
      "cell_type": "code",
      "execution_count": null,
      "metadata": {
        "id": "HwhWH5igxKM_"
      },
      "outputs": [],
      "source": [
        "# Define the input layers\n",
        "user_input = Input(shape=(1,), dtype='int64', name='user_input')\n",
        "item_input = Input(shape=(1,), dtype='int64', name='item_input')\n",
        "\n",
        "# Define the embedding layers\n",
        "user_embeddings = Embedding(input_dim=len(user_ids), output_dim=64)(user_input)\n",
        "item_embeddings = Embedding(input_dim=len(movie_ids), output_dim=64)(item_input)\n",
        "\n",
        "# Concatenate user and item embeddings\n",
        "embeddings = Concatenate()([user_embeddings, item_embeddings])\n",
        "\n",
        "# Add hidden layers with activation functions and dropout\n",
        "hidden_layer1 = Dense(32, activation='relu')(embeddings)\n",
        "dropout1 = Dropout(0.2)(hidden_layer1)\n",
        "hidden_layer2 = Dense(64, activation='relu')(dropout1)\n",
        "dropout2 = Dropout(0.2)(hidden_layer2)\n",
        "\n",
        "# Flatten the output before the final prediction layer\n",
        "flat = Flatten()(dropout2)\n",
        "\n",
        "# Prediction layer with linear activation function\n",
        "prediction_layer = Dense(1, activation='linear')(flat)"
      ]
    },
    {
      "cell_type": "code",
      "execution_count": null,
      "metadata": {
        "id": "FvyFXd1TxKM_"
      },
      "outputs": [],
      "source": [
        "# Define the pre-trained NCF model\n",
        "pre_trained_model = Model(inputs=[user_input, item_input], outputs=prediction_layer)\n",
        "\n",
        "# Compile the pre-trained model\n",
        "pre_trained_model.compile(loss='mean_squared_error', optimizer='adam', metrics=['mae'])"
      ]
    },
    {
      "cell_type": "code",
      "source": [
        "pre_trained_model.summary()"
      ],
      "metadata": {
        "colab": {
          "base_uri": "https://localhost:8080/"
        },
        "id": "G0vIZKSSGLfA",
        "outputId": "e6a053c2-6502-4ff0-d03d-25a44217cd2e"
      },
      "execution_count": null,
      "outputs": [
        {
          "output_type": "stream",
          "name": "stdout",
          "text": [
            "Model: \"model_1\"\n",
            "__________________________________________________________________________________________________\n",
            " Layer (type)                Output Shape                 Param #   Connected to                  \n",
            "==================================================================================================\n",
            " user_input (InputLayer)     [(None, 1)]                  0         []                            \n",
            "                                                                                                  \n",
            " item_input (InputLayer)     [(None, 1)]                  0         []                            \n",
            "                                                                                                  \n",
            " embedding_2 (Embedding)     (None, 1, 64)                386560    ['user_input[0][0]']          \n",
            "                                                                                                  \n",
            " embedding_3 (Embedding)     (None, 1, 64)                237184    ['item_input[0][0]']          \n",
            "                                                                                                  \n",
            " concatenate_1 (Concatenate  (None, 1, 128)               0         ['embedding_2[0][0]',         \n",
            " )                                                                   'embedding_3[0][0]']         \n",
            "                                                                                                  \n",
            " dense_3 (Dense)             (None, 1, 32)                4128      ['concatenate_1[0][0]']       \n",
            "                                                                                                  \n",
            " dropout_2 (Dropout)         (None, 1, 32)                0         ['dense_3[0][0]']             \n",
            "                                                                                                  \n",
            " dense_4 (Dense)             (None, 1, 64)                2112      ['dropout_2[0][0]']           \n",
            "                                                                                                  \n",
            " dropout_3 (Dropout)         (None, 1, 64)                0         ['dense_4[0][0]']             \n",
            "                                                                                                  \n",
            " flatten_1 (Flatten)         (None, 64)                   0         ['dropout_3[0][0]']           \n",
            "                                                                                                  \n",
            " dense_5 (Dense)             (None, 1)                    65        ['flatten_1[0][0]']           \n",
            "                                                                                                  \n",
            "==================================================================================================\n",
            "Total params: 630049 (2.40 MB)\n",
            "Trainable params: 630049 (2.40 MB)\n",
            "Non-trainable params: 0 (0.00 Byte)\n",
            "__________________________________________________________________________________________________\n"
          ]
        }
      ]
    },
    {
      "cell_type": "code",
      "source": [
        "# Define callbacks\n",
        "early_stopping = EarlyStopping(monitor='val_loss', patience=5, restore_best_weights=True)\n",
        "model_checkpoint = ModelCheckpoint('CF_DL_model_V0.1.h5', monitor='val_loss', save_best_only=True)"
      ],
      "metadata": {
        "id": "-56DUFoUyW1Q"
      },
      "execution_count": null,
      "outputs": []
    },
    {
      "cell_type": "code",
      "execution_count": null,
      "metadata": {
        "colab": {
          "base_uri": "https://localhost:8080/"
        },
        "id": "U7xpAXFwxKNA",
        "outputId": "6de372e5-2279-444d-80f5-36afe4ccc474"
      },
      "outputs": [
        {
          "output_type": "stream",
          "name": "stdout",
          "text": [
            "Epoch 1/100\n",
            "801/801 [==============================] - 12s 14ms/step - loss: 1.6948 - mae: 0.9729 - val_loss: 0.8519 - val_mae: 0.7363\n",
            "Epoch 2/100\n",
            " 11/801 [..............................] - ETA: 8s - loss: 0.9789 - mae: 0.7905"
          ]
        },
        {
          "output_type": "stream",
          "name": "stderr",
          "text": [
            "/usr/local/lib/python3.10/dist-packages/keras/src/engine/training.py:3079: UserWarning: You are saving your model as an HDF5 file via `model.save()`. This file format is considered legacy. We recommend using instead the native Keras format, e.g. `model.save('my_model.keras')`.\n",
            "  saving_api.save_model(\n"
          ]
        },
        {
          "output_type": "stream",
          "name": "stdout",
          "text": [
            "801/801 [==============================] - 9s 11ms/step - loss: 0.9480 - mae: 0.7749 - val_loss: 0.8231 - val_mae: 0.7199\n",
            "Epoch 3/100\n",
            "801/801 [==============================] - 11s 13ms/step - loss: 0.9087 - mae: 0.7573 - val_loss: 0.8113 - val_mae: 0.7146\n",
            "Epoch 4/100\n",
            "801/801 [==============================] - 10s 12ms/step - loss: 0.8856 - mae: 0.7466 - val_loss: 0.8056 - val_mae: 0.7134\n",
            "Epoch 5/100\n",
            "801/801 [==============================] - 10s 12ms/step - loss: 0.8667 - mae: 0.7384 - val_loss: 0.7970 - val_mae: 0.7077\n",
            "Epoch 6/100\n",
            "801/801 [==============================] - 11s 14ms/step - loss: 0.8463 - mae: 0.7291 - val_loss: 0.7918 - val_mae: 0.7061\n",
            "Epoch 7/100\n",
            "801/801 [==============================] - 9s 11ms/step - loss: 0.8252 - mae: 0.7194 - val_loss: 0.7862 - val_mae: 0.7008\n",
            "Epoch 8/100\n",
            "801/801 [==============================] - 11s 14ms/step - loss: 0.8056 - mae: 0.7100 - val_loss: 0.7816 - val_mae: 0.6990\n",
            "Epoch 9/100\n",
            "801/801 [==============================] - 10s 13ms/step - loss: 0.7864 - mae: 0.7006 - val_loss: 0.7822 - val_mae: 0.6941\n",
            "Epoch 10/100\n",
            "801/801 [==============================] - 10s 12ms/step - loss: 0.7698 - mae: 0.6922 - val_loss: 0.7844 - val_mae: 0.7002\n",
            "Epoch 11/100\n",
            "801/801 [==============================] - 11s 14ms/step - loss: 0.7538 - mae: 0.6844 - val_loss: 0.7798 - val_mae: 0.6951\n",
            "Epoch 12/100\n",
            "801/801 [==============================] - 9s 11ms/step - loss: 0.7392 - mae: 0.6771 - val_loss: 0.7786 - val_mae: 0.6924\n",
            "Epoch 13/100\n",
            "801/801 [==============================] - 11s 13ms/step - loss: 0.7270 - mae: 0.6707 - val_loss: 0.7798 - val_mae: 0.6938\n",
            "Epoch 14/100\n",
            "801/801 [==============================] - 9s 12ms/step - loss: 0.7154 - mae: 0.6650 - val_loss: 0.7792 - val_mae: 0.6937\n",
            "Epoch 15/100\n",
            "801/801 [==============================] - 10s 12ms/step - loss: 0.7055 - mae: 0.6598 - val_loss: 0.7820 - val_mae: 0.6942\n",
            "Epoch 16/100\n",
            "801/801 [==============================] - 10s 13ms/step - loss: 0.6970 - mae: 0.6558 - val_loss: 0.7841 - val_mae: 0.6953\n",
            "Epoch 17/100\n",
            "801/801 [==============================] - 9s 11ms/step - loss: 0.6892 - mae: 0.6515 - val_loss: 0.7820 - val_mae: 0.6934\n"
          ]
        }
      ],
      "source": [
        "# Train the pre-trained model with validation data and callbacks\n",
        "history = pre_trained_model.fit(\n",
        "    {'user_input': train_data[:, 0], 'item_input': train_data[:, 1]},\n",
        "    train_labels,\n",
        "    epochs=100,\n",
        "    validation_data=(\n",
        "        {'user_input': validation_data[:, 0], 'item_input': validation_data[:, 1]},\n",
        "        validation_labels\n",
        "    ),\n",
        "    callbacks=[early_stopping, model_checkpoint],\n",
        "    batch_size=1000\n",
        ")"
      ]
    },
    {
      "cell_type": "code",
      "execution_count": null,
      "metadata": {
        "colab": {
          "base_uri": "https://localhost:8080/",
          "height": 472
        },
        "id": "dD_0r-57xKNB",
        "outputId": "8e7db17b-67ce-47de-966c-1e12dcbffeda"
      },
      "outputs": [
        {
          "output_type": "display_data",
          "data": {
            "text/plain": [
              "<Figure size 640x480 with 1 Axes>"
            ],
            "image/png": "[encoded data removed]"
          },
          "metadata": {}
        }
      ],
      "source": [
        "# Visualize training history\n",
        "plt.plot(history.history['loss'], label='Training Loss')\n",
        "plt.plot(history.history['val_loss'], label='Validation Loss')\n",
        "plt.title('Training and Validation Loss')\n",
        "plt.xlabel('Epochs')\n",
        "plt.ylabel('Loss')\n",
        "plt.legend()\n",
        "plt.show()"
      ]
    },
    {
      "cell_type": "code",
      "execution_count": null,
      "metadata": {
        "colab": {
          "base_uri": "https://localhost:8080/"
        },
        "id": "hy0oZn8ixKNB",
        "outputId": "54b52695-4221-4583-9ec2-1e1d02f725c1"
      },
      "outputs": [
        {
          "output_type": "stream",
          "name": "stdout",
          "text": [
            "3126/3126 [==============================] - 11s 3ms/step - loss: 0.7834 - mae: 0.6942\n",
            "Test Mean Absolute Error: 0.694176435470581\n"
          ]
        }
      ],
      "source": [
        "# Evaluate the model on the test set\n",
        "test_loss, test_mae = pre_trained_model.evaluate([test_data[:, 0], test_data[:, 1]], test_labels)\n",
        "print(f'Test Mean Absolute Error: {test_mae}')"
      ]
    },
    {
      "cell_type": "code",
      "source": [
        "import shutil\n",
        "\n",
        "file_to_copy = '/content/best_NCF_pre-model.h5'\n",
        "\n",
        "destination_path = '/content/drive/MyDrive/data/ml-1m'\n",
        "\n",
        "shutil.copy(file_to_copy, destination_path)\n"
      ],
      "metadata": {
        "colab": {
          "base_uri": "https://localhost:8080/",
          "height": 35
        },
        "id": "5fMqwkOW2NDH",
        "outputId": "ca9b37b0-9683-4a16-eea8-934cb7a0c21c"
      },
      "execution_count": null,
      "outputs": [
        {
          "output_type": "execute_result",
          "data": {
            "text/plain": [
              "'/content/drive/MyDrive/data/ml-1m/best_NCF_pre-model.h5'"
            ],
            "application/vnd.google.colaboratory.intrinsic+json": {
              "type": "string"
            }
          },
          "metadata": {},
          "execution_count": 13
        }
      ]
    }
  ],
  "metadata": {
    "kernelspec": {
      "display_name": "Python 3",
      "name": "python3"
    },
    "language_info": {
      "codemirror_mode": {
        "name": "ipython",
        "version": 3
      },
      "file_extension": ".py",
      "mimetype": "text/x-python",
      "name": "python",
      "nbconvert_exporter": "python",
      "pygments_lexer": "ipython3",
      "version": "3.11.5"
    },
    "colab": {
      "provenance": [],
      "gpuType": "T4"
    },
    "accelerator": "GPU"
  },
  "nbformat": 4,
  "nbformat_minor": 0
}